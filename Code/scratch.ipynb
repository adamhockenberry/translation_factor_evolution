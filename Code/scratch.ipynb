{
 "cells": [
  {
   "cell_type": "code",
   "execution_count": 1,
   "metadata": {},
   "outputs": [],
   "source": [
    "%matplotlib inline"
   ]
  },
  {
   "cell_type": "markdown",
   "metadata": {},
   "source": [
    "# Notes\n",
    "\n",
    "This is just a \"messy\" notebook that I like to keep around to perform random tasks that warrant documentation but aren't too complicated or really important. Should basically be ignored by everyone except me."
   ]
  },
  {
   "cell_type": "markdown",
   "metadata": {},
   "source": [
    "# Basic imports"
   ]
  },
  {
   "cell_type": "code",
   "execution_count": 28,
   "metadata": {},
   "outputs": [],
   "source": [
    "import ete3\n",
    "\n",
    "import glob\n",
    "import pandas as pd\n",
    "\n",
    "from Bio import PDB\n",
    "from Bio.PDB.Polypeptide import is_aa, three_to_one"
   ]
  },
  {
   "cell_type": "markdown",
   "metadata": {},
   "source": [
    "# Read in the tree and extract the lineage of interest"
   ]
  },
  {
   "cell_type": "code",
   "execution_count": 29,
   "metadata": {},
   "outputs": [],
   "source": [
    "my_tree = ete3.Tree('../Data/Sequences_and_phylogeny/IF2_423_tree_paml_output', format=1)"
   ]
  },
  {
   "cell_type": "code",
   "execution_count": 30,
   "metadata": {},
   "outputs": [
    {
     "name": "stdout",
     "output_type": "stream",
     "text": [
      "E. coli name in tree:\t Gammaproteobacteria_E.coli_IF2\n",
      "\n",
      "E. coli lineage:\t ['Gammaproteobacteria_E.coli_IF2', '801', '800', '799', '795', '794', '793', '792', '791', '790', '789', '788', '754', '750', '743', '719', '702', '670', '622', '558', '550', '536', '520', '424']\n"
     ]
    }
   ],
   "source": [
    "name = [i.name for i in my_tree.get_leaves() if 'E.coli' in i.name]\n",
    "assert len(name) == 1\n",
    "name = name[0]\n",
    "print('E. coli name in tree:\\t', name)\n",
    "print()\n",
    "node = my_tree.search_nodes(name=name)[0]\n",
    "\n",
    "\n",
    "lineage = []\n",
    "root_dists = []\n",
    "while node:\n",
    "    lineage.append(node.name)\n",
    "    root_dists.append(my_tree.get_distance(node))\n",
    "    node = node.up\n",
    "print('E. coli lineage:\\t', lineage)"
   ]
  },
  {
   "cell_type": "code",
   "execution_count": null,
   "metadata": {},
   "outputs": [],
   "source": []
  },
  {
   "cell_type": "markdown",
   "metadata": {},
   "source": [
    "# Add in knowledge of which of those nodes we care about"
   ]
  },
  {
   "cell_type": "code",
   "execution_count": 31,
   "metadata": {},
   "outputs": [],
   "source": [
    "rep_names = []\n",
    "for i in glob.glob('../Data/Structures/*'):\n",
    "    name = i.split('/')[-1]\n",
    "    if name.find('IF2_Anc') == 0:\n",
    "        number = name.split('Anc')[-1]\n",
    "        rep_names.append(number)\n",
    "        \n",
    "        \n",
    "rep = [False]\n",
    "for ancestor in lineage[1:]:\n",
    "    if ancestor in rep_names:\n",
    "        rep.append(True)\n",
    "    else:\n",
    "        rep.append(False)"
   ]
  },
  {
   "cell_type": "code",
   "execution_count": 32,
   "metadata": {},
   "outputs": [
    {
     "data": {
      "text/html": [
       "<div>\n",
       "<style scoped>\n",
       "    .dataframe tbody tr th:only-of-type {\n",
       "        vertical-align: middle;\n",
       "    }\n",
       "\n",
       "    .dataframe tbody tr th {\n",
       "        vertical-align: top;\n",
       "    }\n",
       "\n",
       "    .dataframe thead th {\n",
       "        text-align: right;\n",
       "    }\n",
       "</style>\n",
       "<table border=\"1\" class=\"dataframe\">\n",
       "  <thead>\n",
       "    <tr style=\"text-align: right;\">\n",
       "      <th></th>\n",
       "      <th>Node_id</th>\n",
       "      <th>Dist_to_root</th>\n",
       "      <th>representative</th>\n",
       "    </tr>\n",
       "  </thead>\n",
       "  <tbody>\n",
       "    <tr>\n",
       "      <th>0</th>\n",
       "      <td>Gammaproteobacteria_E.coli_IF2</td>\n",
       "      <td>4.159481</td>\n",
       "      <td>False</td>\n",
       "    </tr>\n",
       "    <tr>\n",
       "      <th>1</th>\n",
       "      <td>801</td>\n",
       "      <td>4.140700</td>\n",
       "      <td>False</td>\n",
       "    </tr>\n",
       "    <tr>\n",
       "      <th>2</th>\n",
       "      <td>800</td>\n",
       "      <td>4.083190</td>\n",
       "      <td>False</td>\n",
       "    </tr>\n",
       "    <tr>\n",
       "      <th>3</th>\n",
       "      <td>799</td>\n",
       "      <td>4.064128</td>\n",
       "      <td>False</td>\n",
       "    </tr>\n",
       "    <tr>\n",
       "      <th>4</th>\n",
       "      <td>795</td>\n",
       "      <td>3.961898</td>\n",
       "      <td>False</td>\n",
       "    </tr>\n",
       "    <tr>\n",
       "      <th>5</th>\n",
       "      <td>794</td>\n",
       "      <td>3.922597</td>\n",
       "      <td>False</td>\n",
       "    </tr>\n",
       "    <tr>\n",
       "      <th>6</th>\n",
       "      <td>793</td>\n",
       "      <td>3.887007</td>\n",
       "      <td>False</td>\n",
       "    </tr>\n",
       "    <tr>\n",
       "      <th>7</th>\n",
       "      <td>792</td>\n",
       "      <td>3.706455</td>\n",
       "      <td>False</td>\n",
       "    </tr>\n",
       "    <tr>\n",
       "      <th>8</th>\n",
       "      <td>791</td>\n",
       "      <td>3.665965</td>\n",
       "      <td>False</td>\n",
       "    </tr>\n",
       "    <tr>\n",
       "      <th>9</th>\n",
       "      <td>790</td>\n",
       "      <td>3.631085</td>\n",
       "      <td>False</td>\n",
       "    </tr>\n",
       "    <tr>\n",
       "      <th>10</th>\n",
       "      <td>789</td>\n",
       "      <td>3.573989</td>\n",
       "      <td>False</td>\n",
       "    </tr>\n",
       "    <tr>\n",
       "      <th>11</th>\n",
       "      <td>788</td>\n",
       "      <td>3.414776</td>\n",
       "      <td>True</td>\n",
       "    </tr>\n",
       "    <tr>\n",
       "      <th>12</th>\n",
       "      <td>754</td>\n",
       "      <td>3.136460</td>\n",
       "      <td>True</td>\n",
       "    </tr>\n",
       "    <tr>\n",
       "      <th>13</th>\n",
       "      <td>750</td>\n",
       "      <td>3.074548</td>\n",
       "      <td>True</td>\n",
       "    </tr>\n",
       "    <tr>\n",
       "      <th>14</th>\n",
       "      <td>743</td>\n",
       "      <td>2.947705</td>\n",
       "      <td>True</td>\n",
       "    </tr>\n",
       "    <tr>\n",
       "      <th>15</th>\n",
       "      <td>719</td>\n",
       "      <td>2.898718</td>\n",
       "      <td>True</td>\n",
       "    </tr>\n",
       "    <tr>\n",
       "      <th>16</th>\n",
       "      <td>702</td>\n",
       "      <td>2.847020</td>\n",
       "      <td>True</td>\n",
       "    </tr>\n",
       "    <tr>\n",
       "      <th>17</th>\n",
       "      <td>670</td>\n",
       "      <td>2.791945</td>\n",
       "      <td>True</td>\n",
       "    </tr>\n",
       "    <tr>\n",
       "      <th>18</th>\n",
       "      <td>622</td>\n",
       "      <td>2.699414</td>\n",
       "      <td>True</td>\n",
       "    </tr>\n",
       "    <tr>\n",
       "      <th>19</th>\n",
       "      <td>558</td>\n",
       "      <td>2.665558</td>\n",
       "      <td>True</td>\n",
       "    </tr>\n",
       "    <tr>\n",
       "      <th>20</th>\n",
       "      <td>550</td>\n",
       "      <td>2.546610</td>\n",
       "      <td>True</td>\n",
       "    </tr>\n",
       "    <tr>\n",
       "      <th>21</th>\n",
       "      <td>536</td>\n",
       "      <td>2.401360</td>\n",
       "      <td>True</td>\n",
       "    </tr>\n",
       "    <tr>\n",
       "      <th>22</th>\n",
       "      <td>520</td>\n",
       "      <td>2.234309</td>\n",
       "      <td>True</td>\n",
       "    </tr>\n",
       "    <tr>\n",
       "      <th>23</th>\n",
       "      <td>424</td>\n",
       "      <td>0.000000</td>\n",
       "      <td>False</td>\n",
       "    </tr>\n",
       "  </tbody>\n",
       "</table>\n",
       "</div>"
      ],
      "text/plain": [
       "                           Node_id  Dist_to_root  representative\n",
       "0   Gammaproteobacteria_E.coli_IF2      4.159481           False\n",
       "1                              801      4.140700           False\n",
       "2                              800      4.083190           False\n",
       "3                              799      4.064128           False\n",
       "4                              795      3.961898           False\n",
       "5                              794      3.922597           False\n",
       "6                              793      3.887007           False\n",
       "7                              792      3.706455           False\n",
       "8                              791      3.665965           False\n",
       "9                              790      3.631085           False\n",
       "10                             789      3.573989           False\n",
       "11                             788      3.414776            True\n",
       "12                             754      3.136460            True\n",
       "13                             750      3.074548            True\n",
       "14                             743      2.947705            True\n",
       "15                             719      2.898718            True\n",
       "16                             702      2.847020            True\n",
       "17                             670      2.791945            True\n",
       "18                             622      2.699414            True\n",
       "19                             558      2.665558            True\n",
       "20                             550      2.546610            True\n",
       "21                             536      2.401360            True\n",
       "22                             520      2.234309            True\n",
       "23                             424      0.000000           False"
      ]
     },
     "execution_count": 32,
     "metadata": {},
     "output_type": "execute_result"
    }
   ],
   "source": [
    "df = pd.DataFrame(zip(lineage, root_dists, rep))\n",
    "df.columns = ['Node_id', 'Dist_to_root', 'representative']\n",
    "df"
   ]
  },
  {
   "cell_type": "code",
   "execution_count": null,
   "metadata": {},
   "outputs": [],
   "source": []
  },
  {
   "cell_type": "markdown",
   "metadata": {},
   "source": [
    "# Get shortened version of ancestral sequences for template modeling\n",
    "\n",
    "And write them to a file / files. Doing both EFTU and IF2 here"
   ]
  },
  {
   "cell_type": "code",
   "execution_count": 85,
   "metadata": {},
   "outputs": [],
   "source": [
    "def extract_seq_from_pdb_file(pdb_file_loc):\n",
    "    '''\n",
    "    Returns a dictionary of chain id to sequence mapping\n",
    "    '''\n",
    "    model_names = []\n",
    "    chain_names = []\n",
    "    seqs = []\n",
    "    ###Read in PDB and extract the chain\n",
    "    pdb_parser = PDB.PDBParser()\n",
    "    structure = pdb_parser.get_structure(\" \", pdb_file_loc)\n",
    "    for model in structure:\n",
    "        for chain in list(model.get_chains()):\n",
    "            model_names.append(model.id)\n",
    "            chain_names.append(chain.id)\n",
    "            ###Enumerate the sequence\n",
    "            seq_list = []\n",
    "            chainID = chain.get_id()\n",
    "            for residue in chain:\n",
    "                if is_aa(residue.get_resname(), standard=True):\n",
    "                    seq_list.append(three_to_one(residue.get_resname()))\n",
    "                else:\n",
    "                    seq_list.append('X')\n",
    "\n",
    "            ###Add to growing list\n",
    "            aa_seq = ''.join(seq_list)\n",
    "            seqs.append(aa_seq)\n",
    "    df = pd.DataFrame(zip(model_names, chain_names, seqs))\n",
    "    df.columns = ['Model_id', 'Chain_id', 'aa_sequence']\n",
    "    return df"
   ]
  },
  {
   "cell_type": "code",
   "execution_count": 106,
   "metadata": {},
   "outputs": [],
   "source": [
    "seqs_dicty = {}\n",
    "for struct_folder in glob.glob('../Data/Structures/IF2_Anc*')[:]:\n",
    "    all_seqs = []\n",
    "    for infile_loc in glob.glob(struct_folder+'/*.pdb')[:]:\n",
    "        single_df = extract_seq_from_pdb_file(infile_loc)\n",
    "        if single_df.shape[0] == 1:\n",
    "            all_seqs.append(single_df.iloc[0]['aa_sequence'])\n",
    "        else:\n",
    "            prin('Error')\n",
    "    ###Make sure all examples gave the same result\n",
    "    assert len(set(all_seqs)) == 1\n",
    "    ###And add to the dictionary\n",
    "    seqs_dicty[struct_folder.split('/')[-1]] = all_seqs[0]\n",
    "    \n",
    "with open('../Data/truncated_anc_seqs_IF2.fasta', 'w') as outfile:\n",
    "    for seq_id, seq in seqs_dicty.items():\n",
    "        outfile.write('>{}\\n{}\\n'.format(seq_id, seq))"
   ]
  },
  {
   "cell_type": "code",
   "execution_count": 107,
   "metadata": {},
   "outputs": [],
   "source": [
    "seqs_dicty = {}\n",
    "for struct_folder in glob.glob('../Data/Structures/EFTU_Anc*')[:]:\n",
    "    all_seqs = []\n",
    "    for infile_loc in glob.glob(struct_folder+'/*.pdb')[:]:\n",
    "        single_df = extract_seq_from_pdb_file(infile_loc)\n",
    "        if single_df.shape[0] == 1:\n",
    "            all_seqs.append(single_df.iloc[0]['aa_sequence'])\n",
    "        else:\n",
    "            prin('Error')\n",
    "    ###Make sure all examples gave the same result\n",
    "    assert len(set(all_seqs)) == 1\n",
    "    ###And add to the dictionary\n",
    "    seqs_dicty[struct_folder.split('/')[-1]] = all_seqs[0]\n",
    "    \n",
    "with open('../Data/truncated_anc_seqs_EFTU.fasta', 'w') as outfile:\n",
    "    for seq_id, seq in seqs_dicty.items():\n",
    "        outfile.write('>{}\\n{}\\n'.format(seq_id, seq))"
   ]
  },
  {
   "cell_type": "markdown",
   "metadata": {},
   "source": [
    "**And the E. coli IF2 and EFTU models**"
   ]
  },
  {
   "cell_type": "code",
   "execution_count": 130,
   "metadata": {},
   "outputs": [
    {
     "name": "stderr",
     "output_type": "stream",
     "text": [
      "/Users/adamhockenberry/anaconda3/lib/python3.7/site-packages/Bio/PDB/StructureBuilder.py:92: PDBConstructionWarning: WARNING: Chain A is discontinuous at line 6582.\n",
      "  PDBConstructionWarning,\n",
      "/Users/adamhockenberry/anaconda3/lib/python3.7/site-packages/Bio/PDB/StructureBuilder.py:92: PDBConstructionWarning: WARNING: Chain B is discontinuous at line 6611.\n",
      "  PDBConstructionWarning,\n",
      "/Users/adamhockenberry/anaconda3/lib/python3.7/site-packages/Bio/PDB/StructureBuilder.py:92: PDBConstructionWarning: WARNING: Chain A is discontinuous at line 6640.\n",
      "  PDBConstructionWarning,\n",
      "/Users/adamhockenberry/anaconda3/lib/python3.7/site-packages/Bio/PDB/StructureBuilder.py:92: PDBConstructionWarning: WARNING: Chain B is discontinuous at line 6872.\n",
      "  PDBConstructionWarning,\n"
     ]
    }
   ],
   "source": [
    "infiles = ['../Data/Structures/Templates/1zo1.clean.pdb',\\\n",
    "          '../Data/Structures/Templates/1efc.pdb',\\\n",
    "          '../Data/Structures/Templates/3jcjF.pdb']\n",
    "df_dict = {}\n",
    "for infile in infiles:\n",
    "    df = extract_seq_from_pdb_file(infile)\n",
    "    df_dict[infile] = df"
   ]
  },
  {
   "cell_type": "code",
   "execution_count": 131,
   "metadata": {},
   "outputs": [
    {
     "data": {
      "text/plain": [
       "'TKPHVNVGTIGHVDHGKTTLTAAITTVLAKTYGGAARAFDQIDNAPEEKARGITINTSHVEYDTPTRHYAHVDCPGHADYVKNMITGAAQMDGAILVVAATDGPMPQTREHILLGRQVGVPYIIVFLNKCDMVDDEELLELVEMEVRELLSQYDFPGDDTPIVRGSALKALEGDAEWEAKILELAGFLDSYIPEPERAIDKPFLLPIEDVFSISGRGTVVTGRVERGIIKVGEEVEIVGIKETQKSTCTGVEMFRKLLDEGRAGENVGVLLRGIKREEIERGQVLAKPGTIKPHTKFESEVYILSKDEGGRHTPFFKGYRPQFYFRTTDVTGTIELPEGVEMVMPGDNIKMVVTLIHPIAMDDGLRFAIREGGRTVGAGVVAKVLSXXXXXXXXXXXXXXXXXXXXXXXXXXXXXXXXXXXXXXXXXXXXXXXXXXXXXXXXXXXXXXXXXXXXXXXXXXXXXXXXXXXXXXXXXXXXXXXXXXXXXXXXXXXXXXXXXXXXXXXXXXXXXXXXXXXXXXXXXXXXXXXXXXXXXXXXXXXXXXXXXXXXXXXXXXXXXXXXXXXXXXXXXXXXXXXXXXXXXXXXXXXXXXXXXXXXXXXXXXXXXXXXXXXXXXXXXX'"
      ]
     },
     "execution_count": 131,
     "metadata": {},
     "output_type": "execute_result"
    }
   ],
   "source": [
    "df_dict['../Data/Structures/Templates/1efc.pdb'].iloc[0]['aa_sequence']"
   ]
  },
  {
   "cell_type": "code",
   "execution_count": 133,
   "metadata": {},
   "outputs": [
    {
     "data": {
      "text/plain": [
       "'EPRAPVVTIMGHVDHGKTSLLEYIRSTKVASGEAGGITQHIGAYHVETENGMITFLDTPGHAAFTSMRARGAQATDIVVLVVAADDGVMPQTIEAIQHAKAAQVPVVVAVNKIDKPEADPDRVKNELSQYGILPEEWGGESQFVHVSAKAGTGIDELLDAILLQAEVLELKAVRKGMASGAVIESFLDKGRGPVATVLVREGTLHKGDIVLCGFEYGRVRAMRNELGQEVLEAGPSIPVEILGLSGVPAAGDEVTVVRDEKKAREVALYRQGKFREVKLARQQKSKLENMFANMTEGEVHEVNIVLKADVQGSVEAISDSLLKLSTDEVKVKIIGSGVGGITETDATLAAASNAILVGFNVRADASARKVIEAESLDLRYYSVIYNLIDEVKAAMSGMLSPELKQQIIGLAEVRDVFKSPKFGAIAGCMVTEGVVKRHNPIRVLRDNVVIYEGELESLRRFKDDVNEVRNGMECGIGVKNYNDVRTGDVIEVFEIIEIQRT'"
      ]
     },
     "execution_count": 133,
     "metadata": {},
     "output_type": "execute_result"
    }
   ],
   "source": [
    "df_dict['../Data/Structures/Templates/1zo1.clean.pdb'].iloc[0]['aa_sequence']"
   ]
  },
  {
   "cell_type": "code",
   "execution_count": 127,
   "metadata": {},
   "outputs": [
    {
     "data": {
      "text/plain": [
       "'DTGAAAEPRAPVVTIMGHVDHGKTSLLDYIRSTKVASGEAGGITQHIGAYHVETENGMITFLDTPGHAAFTSMRARGAQATDIVVLVVAADDGVMPQTIEAIQHAKAAQVPVVVAVNKIDKPEADPDRVKNELSQYGILPEEWGGESQFVHVSAKAGTGIDELLDAILLQAEVLELKAVRKGMASGAVIESFLDKGRGPVATVLVREGTLHKGDIVLCGFEYGRVRAMRNELGQEVLEAGPSIPVEILGLSGVPAAGDEVTVVRDEKKAREVALYRQGKFREVKLARQQKSKLENMFANMTEGEVHEVNIVLKADVQGSVEAISDSLLKLSTDEVKVKIIGSGVGGITETDATLAAASNAILVGFNVRADASARKVIEAESLDLRYYSVIYNLIDEVKAAMSGMLSPELKQQIIGLAEVRDVFKSPKFGAIAGCMVTEGVVKRHNPIRVLRDNVVIYEGELESLRRFKDDVNEVRNGMECGIGVKNYNDVRTGDVIEVFEIIEIQRTIA'"
      ]
     },
     "execution_count": 127,
     "metadata": {},
     "output_type": "execute_result"
    }
   ],
   "source": [
    "df_dict['../Data/Structures/Templates/3jcjF.pdb'].iloc[0]['aa_sequence']"
   ]
  },
  {
   "cell_type": "code",
   "execution_count": 134,
   "metadata": {},
   "outputs": [
    {
     "data": {
      "text/plain": [
       "503"
      ]
     },
     "execution_count": 134,
     "metadata": {},
     "output_type": "execute_result"
    }
   ],
   "source": []
  },
  {
   "cell_type": "markdown",
   "metadata": {},
   "source": [
    "**Remove ambiguous characters from modern seqs**"
   ]
  },
  {
   "cell_type": "code",
   "execution_count": 44,
   "metadata": {},
   "outputs": [],
   "source": [
    "listy = []\n",
    "for line in open('../Data/Sequences_and_phylogeny/IF2_423_modern_sequences.fasta', 'r').readlines():\n",
    "    if line[0] == '>':\n",
    "        listy.append(line)\n",
    "    elif line == '\\n':\n",
    "        pass\n",
    "    else:\n",
    "        listy.append(line.replace('X', '-'))"
   ]
  },
  {
   "cell_type": "code",
   "execution_count": 47,
   "metadata": {},
   "outputs": [],
   "source": [
    "with open('../Data/Sequences_and_phylogeny/IF2_423_modern_sequences.clean.fasta', 'w') as outfile:\n",
    "    for line in listy:\n",
    "        outfile.write(line)"
   ]
  },
  {
   "cell_type": "code",
   "execution_count": null,
   "metadata": {},
   "outputs": [],
   "source": []
  },
  {
   "cell_type": "code",
   "execution_count": null,
   "metadata": {},
   "outputs": [],
   "source": []
  },
  {
   "cell_type": "markdown",
   "metadata": {},
   "source": [
    "**Doing some comparisons**"
   ]
  },
  {
   "cell_type": "code",
   "execution_count": 48,
   "metadata": {},
   "outputs": [],
   "source": [
    "from Bio import SeqIO"
   ]
  },
  {
   "cell_type": "code",
   "execution_count": 58,
   "metadata": {},
   "outputs": [],
   "source": [
    "records = SeqIO.parse('../Data/Sequences_and_phylogeny/IF2_423_ancestral_sequences.fasta', 'fasta')\n",
    "for record in records:\n",
    "    if record.id == '520':\n",
    "        my_seq = str(record.seq)"
   ]
  },
  {
   "cell_type": "code",
   "execution_count": 59,
   "metadata": {},
   "outputs": [
    {
     "name": "stdout",
     "output_type": "stream",
     "text": [
      "N96\n",
      "N112\n"
     ]
    }
   ],
   "source": [
    "records = SeqIO.parse('/Users/adamhockenberry/Downloads/IF2_initial_test_N96,N112-ancestors_GRASP.fasta', 'fasta')\n",
    "for record in records:\n",
    "    print(record.id)\n",
    "    if record.id == 'N96':\n",
    "        grasp_seq = str(record.seq)"
   ]
  },
  {
   "cell_type": "code",
   "execution_count": 60,
   "metadata": {},
   "outputs": [
    {
     "name": "stdout",
     "output_type": "stream",
     "text": [
      "1028 698\n"
     ]
    }
   ],
   "source": [
    "grasp_seq = grasp_seq.replace('-', '')\n",
    "print(len(grasp_seq), len(my_seq))"
   ]
  },
  {
   "cell_type": "code",
   "execution_count": 66,
   "metadata": {},
   "outputs": [
    {
     "name": "stdout",
     "output_type": "stream",
     "text": [
      "MSKVRVYELAKELGMSSKELLEVLKDLGIEVKSHMSTLDEEEVEKIRDAFKKSKSKGAGAAPKKTTAKKPAKTEAKKPAPAEEAKEKPSE\n",
      "MSKVRVYELAKKLGMSSKELLEVLKELGIEVKSHMSTLDEETVEVIRDLFEEEKPEEEKPPEAAEKEAKKNKKGNKKKKKGRKEKAEEEV\n"
     ]
    }
   ],
   "source": [
    "print(grasp_seq[:90])\n",
    "print(my_seq[:90])"
   ]
  },
  {
   "cell_type": "code",
   "execution_count": 62,
   "metadata": {},
   "outputs": [
    {
     "data": {
      "text/plain": [
       "'MSKVRVYELAKKLGMSSKELLEVLKELGIEVKSHMSTLDEETVEVIRDLFEEEKPEEEKPPEAAEKEAKKNKKGNKKKKKGRKEKAEEEVEEEEIKTIKIKPEEITLDELAEKLNVPPNEIIKKLFMKGIMLTINQTLSFEQAEQIAMEYGVLVEIEEEQKAEEEEEPEEVLETRWLELYEDEEEDLVPRPPVVTIMGHVDHGKTTLLDAIRKTNVAEKEAGGITQHIGAYQVEHNGKKITFIDTPGHEAFTEMRARGAQVTDIAILVVAADDGVMPQTIEAINHAKAANVPIIVAINKIDKPNANPDRVKQQLVSEYGLVPEEWGGDTIFVPISAKTGQGIDELLEMILLVAEMQELKANPDGRARGVIIESKLDKGLGPVATVIVQDGTLKVGDVFVAGSTYGKVRAMIDDKGRRVKEAGPSTPVEILGFEEVPDAGSTLYVVESEKQAREIAEKVKEKQEQEEQNRTKRHIRLEDLFKQMQEGEVKELNLILKADTMGSVEALKNSLEKLSNDEVEINIIHAGVGAITESDVMLASASDAIILGFNVRVDSKARKMAEKEGVEIRTYNIIYDLIDDIKKALEGMLEPEEKEEVLGQGEIKQVFKISKVGNIAGVQVTDGKVKRDAKVRILRNGVVIYDGKIESLKHYKDDVKEVAAGQECGIKLENFNDIKEGDILECYEMEEVKRTLEFNNNEN'"
      ]
     },
     "execution_count": 62,
     "metadata": {},
     "output_type": "execute_result"
    }
   ],
   "source": [
    "my_seq"
   ]
  },
  {
   "cell_type": "code",
   "execution_count": null,
   "metadata": {},
   "outputs": [],
   "source": []
  },
  {
   "cell_type": "markdown",
   "metadata": {},
   "source": [
    "**E. coli seq**"
   ]
  },
  {
   "cell_type": "code",
   "execution_count": 70,
   "metadata": {},
   "outputs": [
    {
     "name": "stdout",
     "output_type": "stream",
     "text": [
      "Gammaproteobacteria_E.coli_IF2\n"
     ]
    }
   ],
   "source": [
    "records = SeqIO.parse('../Data/Sequences_and_phylogeny/IF2_423_modern_sequences.fasta', 'fasta')\n",
    "for record in records:\n",
    "    if 'E.coli' in record.id:\n",
    "        print(record.id)\n",
    "        ecoli_seq = str(record.seq)"
   ]
  },
  {
   "cell_type": "code",
   "execution_count": 71,
   "metadata": {},
   "outputs": [
    {
     "data": {
      "text/plain": [
       "1995"
      ]
     },
     "execution_count": 71,
     "metadata": {},
     "output_type": "execute_result"
    }
   ],
   "source": [
    "len(ecoli_seq)"
   ]
  },
  {
   "cell_type": "code",
   "execution_count": 75,
   "metadata": {},
   "outputs": [
    {
     "data": {
      "text/plain": [
       "'MTDVTIKTLAAERQTSVERLVQQFADAGIRKSADDSVSAQEKQTLIDHLNQKNSGPDKLTLQRKTRSTLNIPGTGGKSKSVQIEVRKKRTFVKRDPQEAERLAAEEQAQREAEEQARREAEESAKREAQQKAEREAAEQAKREAAEQAKREAAEKDKVSNQQDDMTKNAQAEKARREQEAAELKRKAEEEARRKLEEEARRVAEEARRMAEENKWTDNAEPTEDSSDYHVTTSQHARQAEDESDREVEGGRGRGRNAKAARAKKGNKHAESKADREEARAAVRGGKGGKRKGSSLQQGFQKPAQAVNRDVVIGETITVGELANKMAVKGSQVIKAMMKLGAMATINQVIDQETAQLVAEEMGHKVILRRENELEEAVMSDRDTGAAAEPRAPVVTIMGHVDHGKTSLLDYIRSTKVASGEAGGITQHIGAYHVETENGMITFLDTPGHAAFTSMRARGAQATDIVVLVVAADDGVMPQTIEAIQHAKAAQVPVVVAVNKIDKPEADPDRVKNELSQYGILPEEWGGESQFVHVSAKAGTGIDELLDAILLQAEVLELKAVRKGMASGAVIESFLDKGRGPVATVLVREGTLHKGDIVLCGFEYGRVRAMRNELGQEVLEAGPSIPVEILGLSGVPAAGDEVTVVRDEKKAREVALYRQGKFREVKLARQQKSKLENMFANMTEGEVHEVNIVLKADVQGSVEAISDSLLKLSTDEVKVKIIGSGVGGITETDATLAAASNAILVGFNVRADASARKVIEAESLDLRYYSVIYNLIDEVKAAMSGMLSPELKQQIIGLAEVRDVFKSPKFGAIAGCMVTEGVVKRHNPIRVLRDNVVIYEGELESLRRFKDDVNEVRNGMECGIGVKNYNDVRTGDVIEVFEIIEIQRTIA'"
      ]
     },
     "execution_count": 75,
     "metadata": {},
     "output_type": "execute_result"
    }
   ],
   "source": [
    "ecoli_seq.replace('-', '')"
   ]
  },
  {
   "cell_type": "code",
   "execution_count": null,
   "metadata": {},
   "outputs": [],
   "source": []
  },
  {
   "cell_type": "code",
   "execution_count": null,
   "metadata": {},
   "outputs": [],
   "source": []
  },
  {
   "cell_type": "code",
   "execution_count": null,
   "metadata": {},
   "outputs": [],
   "source": []
  },
  {
   "cell_type": "markdown",
   "metadata": {},
   "source": [
    "# Move around modeler results"
   ]
  },
  {
   "cell_type": "code",
   "execution_count": 117,
   "metadata": {},
   "outputs": [],
   "source": [
    "from io import StringIO\n",
    "import shutil\n",
    "import os"
   ]
  },
  {
   "cell_type": "code",
   "execution_count": 124,
   "metadata": {},
   "outputs": [
    {
     "name": "stdout",
     "output_type": "stream",
     "text": [
      "../Data/Structures/IF2_Anc670\n",
      "../Data/Structures/IF2_Anc622\n",
      "../Data/Structures/IF2_Anc536\n",
      "../Data/Structures/IF2_Anc750\n",
      "../Data/Structures/IF2_Anc702\n",
      "../Data/Structures/IF2_Anc743\n",
      "../Data/Structures/IF2_Anc788\n",
      "../Data/Structures/IF2_Anc719\n",
      "../Data/Structures/IF2_Anc559\n",
      "../Data/Structures/IF2_Anc754\n",
      "../Data/Structures/IF2_Anc550\n",
      "../Data/Structures/IF2_Anc558\n",
      "../Data/Structures/IF2_Anc520\n",
      "../Data/Structures/EFTU_Anc168\n",
      "../Data/Structures/EFTU_Anc262\n"
     ]
    }
   ],
   "source": [
    "# response_dict = {}\n",
    "for base_dir in glob.glob('../Data/Structures/IF2_*')+glob.glob('../Data/Structures/EFTU_*')[:]:\n",
    "    print(base_dir)\n",
    "    if 'IF2_Anc559' in base_dir:\n",
    "        continue\n",
    "    results_dir = base_dir.replace('/Data/', '/Results/').replace('/Structures/', '/modeller/')\n",
    "    if os.path.exists(results_dir):\n",
    "        pass\n",
    "    else:\n",
    "        os.mkdir(results_dir)\n",
    "    log_file = base_dir + '/model-single.log'\n",
    "    with open(log_file, 'r') as infile:\n",
    "        tempy = infile.readlines()[-6:]\n",
    "    df = pd.read_csv(StringIO(''.join(tempy)), delim_whitespace=True, header=None)\n",
    "    best_version = df[df[2]==df[2].min()].iloc[0][0]\n",
    "    shutil.copy(base_dir + '/' + best_version, results_dir + '/model1.pdb')\n",
    "#     my_file_loc = base_dir + '/' + best_version\n",
    "#     my_id = base_dir.split('/')[-1]\n",
    "#     print(best_version, my_id)"
   ]
  },
  {
   "cell_type": "code",
   "execution_count": null,
   "metadata": {},
   "outputs": [],
   "source": [
    "shutil."
   ]
  }
 ],
 "metadata": {
  "kernelspec": {
   "display_name": "Python 3",
   "language": "python",
   "name": "python3"
  },
  "language_info": {
   "codemirror_mode": {
    "name": "ipython",
    "version": 3
   },
   "file_extension": ".py",
   "mimetype": "text/x-python",
   "name": "python",
   "nbconvert_exporter": "python",
   "pygments_lexer": "ipython3",
   "version": "3.7.7"
  },
  "toc": {
   "colors": {
    "hover_highlight": "#DAA520",
    "navigate_num": "#000000",
    "navigate_text": "#333333",
    "running_highlight": "#FF0000",
    "selected_highlight": "#FFD700",
    "sidebar_border": "#EEEEEE",
    "wrapper_background": "#FFFFFF"
   },
   "moveMenuLeft": true,
   "nav_menu": {
    "height": "120px",
    "width": "252px"
   },
   "navigate_menu": true,
   "number_sections": true,
   "sideBar": true,
   "threshold": 4,
   "toc_cell": false,
   "toc_section_display": "block",
   "toc_window_display": false,
   "widenNotebook": false
  }
 },
 "nbformat": 4,
 "nbformat_minor": 4
}
