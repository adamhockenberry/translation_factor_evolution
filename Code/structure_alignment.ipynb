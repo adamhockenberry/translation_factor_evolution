{
 "cells": [
  {
   "cell_type": "code",
   "execution_count": 1,
   "metadata": {},
   "outputs": [],
   "source": [
    "%matplotlib inline"
   ]
  },
  {
   "cell_type": "markdown",
   "metadata": {},
   "source": [
    "# Basic imports"
   ]
  },
  {
   "cell_type": "code",
   "execution_count": 2,
   "metadata": {},
   "outputs": [],
   "source": [
    "from matplotlib import pyplot as plt\n",
    "\n",
    "import subprocess\n",
    "import glob\n",
    "from scipy import stats\n",
    "import pandas as pd\n",
    "# import numpy as np\n",
    "# import json\n",
    "# from collections import defaultdict"
   ]
  },
  {
   "cell_type": "markdown",
   "metadata": {},
   "source": [
    "# Configuration data for better plot customization\n"
   ]
  },
  {
   "cell_type": "code",
   "execution_count": 3,
   "metadata": {},
   "outputs": [],
   "source": [
    "import matplotlib\n",
    "###Default for jupyter display\n",
    "matplotlib.rcParams['figure.dpi']= 150\n",
    "\n",
    "matplotlib.rcParams['xtick.labelsize'] = 10\n",
    "matplotlib.rcParams['ytick.labelsize'] = 10\n",
    "matplotlib.rcParams['axes.labelsize'] = 10\n",
    "matplotlib.rcParams['axes.titlesize'] = 10\n",
    "\n",
    "matplotlib.rcParams['axes.grid'] = True\n",
    "matplotlib.rcParams['grid.color'] = '0.8'\n",
    "matplotlib.rcParams['grid.linewidth'] = '0.5'\n",
    "\n",
    "matplotlib.rcParams['axes.edgecolor'] = '0.25'\n",
    "matplotlib.rcParams['xtick.color'] = '0'\n",
    "matplotlib.rcParams['ytick.color'] = '0'\n",
    "\n",
    "matplotlib.rcParams['xtick.major.width'] = 1\n",
    "matplotlib.rcParams['ytick.major.width'] = 1\n",
    "matplotlib.rcParams['ytick.major.size'] = 5\n",
    "matplotlib.rcParams['xtick.major.size'] = 5\n",
    "matplotlib.rcParams['axes.spines.right'] = True\n",
    "matplotlib.rcParams['axes.spines.left'] = True\n",
    "matplotlib.rcParams['axes.spines.top'] = True\n",
    "matplotlib.rcParams['axes.spines.bottom'] = True\n",
    "\n",
    "matplotlib.rcParams['font.family'] = 'sans-serif'\n",
    "matplotlib.rcParams['font.sans-serif'] = 'Helvetica'\n",
    "matplotlib.rcParams['font.weight']='normal'\n",
    "matplotlib.rcParams['axes.axisbelow'] = True\n",
    "matplotlib.rcParams['legend.fontsize'] = 10\n",
    "# matplotlib.rcParams['text.usetex'] = True\n",
    "\n",
    "prop_cycle = plt.rcParams['axes.prop_cycle']\n",
    "colors = prop_cycle.by_key()['color']"
   ]
  },
  {
   "cell_type": "markdown",
   "metadata": {},
   "source": [
    "# Notes:\n",
    "\n",
    "There are a LOT of structure alignment tools (just like there are a lot of sequence alignment tools). So where to begin? Here I'm choosing two initially: one based on overall use / citations and speed (`TM-align`) and one based on the fact that it came out on top in a recent benchmark of method accuracy (`SP-alignNS`; see: https://link.springer.com/article/10.1007/s00239-020-09960-2). Are these two exhaustive? Of course not. Sufficient? Maybe. \n",
    "\n",
    "Note that there are a few other tools that we could consider using that I'm putting below in order of prioritize should we want to expand. \n",
    "\n",
    "1. `DaliLite` is an old and extremely well established (and well cited) program that is frequently updated. Just haven't gotten around to running it yet. Note that there are a number of links to older DALI versions with far more citations, I'm only listing the most recent paper from 2020 here.\n",
    "\n",
    "    https://onlinelibrary.wiley.com/doi/full/10.1002/pro.3749 (download: http://ekhidna.biocenter.helsinki.fi/dali/)\n",
    "\n",
    "\n",
    "2. `Deep-align` is a newer entrant into the field. Again, I simply haven't gotten around to it yet.\n",
    "\n",
    "    https://www.nature.com/articles/srep01448 (download: https://github.com/realbigws/DeepAlign)\n",
    "\n",
    "\n",
    "3. `Fr-TM-align` is seemingly close to `TM-align` in ideology but it is not particularly used / well-cited. It was easy to install and the output is nearly identical to `TM-align`, so (but for the fact that folks don't seem to use it) it's probably a better choice than `TM-align`. Overall, just doesn't seem too important given the availability of other software.\n",
    "\n",
    "    https://bmcbioinformatics.biomedcentral.com/articles/10.1186/1471-2105-9-531 (download: http://cssb.biology.gatech.edu/skolnick/files/FrTMalign/index.html) \n",
    "\n",
    "\n",
    "4. `FAST` is pretty ancient but performed surprisingly well in the benchmark study. I couldn't really get it working quickly so might need to be compiled from source or tested on a different system. Or given the abundance of other tools, ignored.\n",
    "\n",
    "    https://onlinelibrary.wiley.com/doi/abs/10.1002/prot.20331 (download: http://bu.wenglab.org/FAST/download.htm)\n",
    "    \n"
   ]
  },
  {
   "cell_type": "markdown",
   "metadata": {},
   "source": [
    "# Reading in dataframes from `QMEANDisCo` analyses\n",
    "\n",
    "This was previously constructed separately in `structure_quality_assessment.ipynb`"
   ]
  },
  {
   "cell_type": "code",
   "execution_count": 4,
   "metadata": {},
   "outputs": [
    {
     "name": "stdout",
     "output_type": "stream",
     "text": [
      "(328, 6)\n"
     ]
    },
    {
     "data": {
      "text/html": [
       "<div>\n",
       "<style scoped>\n",
       "    .dataframe tbody tr th:only-of-type {\n",
       "        vertical-align: middle;\n",
       "    }\n",
       "\n",
       "    .dataframe tbody tr th {\n",
       "        vertical-align: top;\n",
       "    }\n",
       "\n",
       "    .dataframe thead th {\n",
       "        text-align: right;\n",
       "    }\n",
       "</style>\n",
       "<table border=\"1\" class=\"dataframe\">\n",
       "  <thead>\n",
       "    <tr style=\"text-align: right;\">\n",
       "      <th></th>\n",
       "      <th>protein</th>\n",
       "      <th>variant</th>\n",
       "      <th>template</th>\n",
       "      <th>model_number</th>\n",
       "      <th>source</th>\n",
       "      <th>qmeandisco_score</th>\n",
       "    </tr>\n",
       "  </thead>\n",
       "  <tbody>\n",
       "    <tr>\n",
       "      <th>0</th>\n",
       "      <td>EFTU</td>\n",
       "      <td>1efc</td>\n",
       "      <td>NaN</td>\n",
       "      <td>model1</td>\n",
       "      <td>ITASSER</td>\n",
       "      <td>0.821203</td>\n",
       "    </tr>\n",
       "    <tr>\n",
       "      <th>1</th>\n",
       "      <td>EFTU</td>\n",
       "      <td>1efc</td>\n",
       "      <td>NaN</td>\n",
       "      <td>model2</td>\n",
       "      <td>ITASSER</td>\n",
       "      <td>0.812577</td>\n",
       "    </tr>\n",
       "    <tr>\n",
       "      <th>2</th>\n",
       "      <td>EFTU</td>\n",
       "      <td>Anc168</td>\n",
       "      <td>NaN</td>\n",
       "      <td>model1</td>\n",
       "      <td>ITASSER</td>\n",
       "      <td>0.807184</td>\n",
       "    </tr>\n",
       "    <tr>\n",
       "      <th>3</th>\n",
       "      <td>EFTU</td>\n",
       "      <td>Anc168</td>\n",
       "      <td>NaN</td>\n",
       "      <td>model2</td>\n",
       "      <td>ITASSER</td>\n",
       "      <td>0.787163</td>\n",
       "    </tr>\n",
       "    <tr>\n",
       "      <th>4</th>\n",
       "      <td>EFTU</td>\n",
       "      <td>Anc262</td>\n",
       "      <td>NaN</td>\n",
       "      <td>model1</td>\n",
       "      <td>ITASSER</td>\n",
       "      <td>0.818077</td>\n",
       "    </tr>\n",
       "  </tbody>\n",
       "</table>\n",
       "</div>"
      ],
      "text/plain": [
       "  protein variant template model_number   source  qmeandisco_score\n",
       "0    EFTU    1efc      NaN       model1  ITASSER          0.821203\n",
       "1    EFTU    1efc      NaN       model2  ITASSER          0.812577\n",
       "2    EFTU  Anc168      NaN       model1  ITASSER          0.807184\n",
       "3    EFTU  Anc168      NaN       model2  ITASSER          0.787163\n",
       "4    EFTU  Anc262      NaN       model1  ITASSER          0.818077"
      ]
     },
     "execution_count": 4,
     "metadata": {},
     "output_type": "execute_result"
    }
   ],
   "source": [
    "full_df = pd.read_csv('../Results/QMEAN/full_results.tsv', sep='\\t', index_col=0)\n",
    "print(full_df.shape)\n",
    "full_df.head()"
   ]
  },
  {
   "cell_type": "code",
   "execution_count": 5,
   "metadata": {},
   "outputs": [
    {
     "name": "stdout",
     "output_type": "stream",
     "text": [
      "(54, 6)\n"
     ]
    },
    {
     "data": {
      "text/html": [
       "<div>\n",
       "<style scoped>\n",
       "    .dataframe tbody tr th:only-of-type {\n",
       "        vertical-align: middle;\n",
       "    }\n",
       "\n",
       "    .dataframe tbody tr th {\n",
       "        vertical-align: top;\n",
       "    }\n",
       "\n",
       "    .dataframe thead th {\n",
       "        text-align: right;\n",
       "    }\n",
       "</style>\n",
       "<table border=\"1\" class=\"dataframe\">\n",
       "  <thead>\n",
       "    <tr style=\"text-align: right;\">\n",
       "      <th></th>\n",
       "      <th>protein</th>\n",
       "      <th>variant</th>\n",
       "      <th>template</th>\n",
       "      <th>model_number</th>\n",
       "      <th>source</th>\n",
       "      <th>qmeandisco_score</th>\n",
       "    </tr>\n",
       "  </thead>\n",
       "  <tbody>\n",
       "    <tr>\n",
       "      <th>34</th>\n",
       "      <td>EFTU</td>\n",
       "      <td>1efc</td>\n",
       "      <td>NaN</td>\n",
       "      <td>NaN</td>\n",
       "      <td>empirical</td>\n",
       "      <td>0.847527</td>\n",
       "    </tr>\n",
       "    <tr>\n",
       "      <th>0</th>\n",
       "      <td>EFTU</td>\n",
       "      <td>1efc</td>\n",
       "      <td>NaN</td>\n",
       "      <td>model1</td>\n",
       "      <td>ITASSER</td>\n",
       "      <td>0.821203</td>\n",
       "    </tr>\n",
       "    <tr>\n",
       "      <th>246</th>\n",
       "      <td>EFTU</td>\n",
       "      <td>1efc</td>\n",
       "      <td>NaN</td>\n",
       "      <td>model4</td>\n",
       "      <td>trRosetta</td>\n",
       "      <td>0.768104</td>\n",
       "    </tr>\n",
       "    <tr>\n",
       "      <th>35</th>\n",
       "      <td>EFTU</td>\n",
       "      <td>6gfu</td>\n",
       "      <td>NaN</td>\n",
       "      <td>NaN</td>\n",
       "      <td>empirical</td>\n",
       "      <td>0.845782</td>\n",
       "    </tr>\n",
       "    <tr>\n",
       "      <th>2</th>\n",
       "      <td>EFTU</td>\n",
       "      <td>Anc168</td>\n",
       "      <td>NaN</td>\n",
       "      <td>model1</td>\n",
       "      <td>ITASSER</td>\n",
       "      <td>0.807184</td>\n",
       "    </tr>\n",
       "  </tbody>\n",
       "</table>\n",
       "</div>"
      ],
      "text/plain": [
       "    protein variant template model_number     source  qmeandisco_score\n",
       "34     EFTU    1efc      NaN          NaN  empirical          0.847527\n",
       "0      EFTU    1efc      NaN       model1    ITASSER          0.821203\n",
       "246    EFTU    1efc      NaN       model4  trRosetta          0.768104\n",
       "35     EFTU    6gfu      NaN          NaN  empirical          0.845782\n",
       "2      EFTU  Anc168      NaN       model1    ITASSER          0.807184"
      ]
     },
     "execution_count": 5,
     "metadata": {},
     "output_type": "execute_result"
    }
   ],
   "source": [
    "best_df = pd.read_csv('../Results/QMEAN/best_results.tsv', sep='\\t', index_col=0)\n",
    "print(best_df.shape)\n",
    "best_df.head()"
   ]
  },
  {
   "cell_type": "markdown",
   "metadata": {},
   "source": [
    "# Analyzing `modeller` results with different template file inputs"
   ]
  },
  {
   "cell_type": "code",
   "execution_count": 6,
   "metadata": {},
   "outputs": [
    {
     "name": "stdout",
     "output_type": "stream",
     "text": [
      "Found 13 directories of interest\n",
      "../Results/modeller/IF2_Anc520_3jcj\n",
      "modeller IF2 Anc520\n",
      "../Results/modeller/IF2_Anc536_3jcj\n",
      "modeller IF2 Anc536\n",
      "../Results/modeller/IF2_Anc550_3jcj\n",
      "modeller IF2 Anc550\n",
      "../Results/modeller/IF2_Anc558_3jcj\n",
      "modeller IF2 Anc558\n",
      "../Results/modeller/IF2_Anc622_3jcj\n",
      "modeller IF2 Anc622\n",
      "../Results/modeller/IF2_Anc670_3jcj\n",
      "modeller IF2 Anc670\n",
      "../Results/modeller/IF2_Anc702_3jcj\n",
      "modeller IF2 Anc702\n",
      "../Results/modeller/IF2_Anc719_3jcj\n",
      "modeller IF2 Anc719\n",
      "../Results/modeller/IF2_Anc743_3jcj\n",
      "modeller IF2 Anc743\n",
      "../Results/modeller/IF2_Anc750_3jcj\n",
      "modeller IF2 Anc750\n",
      "../Results/modeller/IF2_Anc754_3jcj\n",
      "modeller IF2 Anc754\n",
      "../Results/modeller/IF2_Anc788_3jcj\n",
      "modeller IF2 Anc788\n",
      "Test file locations:\n",
      " ['../Results/modeller/IF2_Anc520_3jcj/model1.pdb', '../Results/modeller/IF2_Anc536_3jcj/model1.pdb', '../Results/modeller/IF2_Anc550_3jcj/model1.pdb', '../Results/modeller/IF2_Anc558_3jcj/model1.pdb', '../Results/modeller/IF2_Anc622_3jcj/model1.pdb', '../Results/modeller/IF2_Anc670_3jcj/model1.pdb', '../Results/modeller/IF2_Anc702_3jcj/model1.pdb', '../Results/modeller/IF2_Anc719_3jcj/model1.pdb', '../Results/modeller/IF2_Anc743_3jcj/model1.pdb', '../Results/modeller/IF2_Anc750_3jcj/model1.pdb', '../Results/modeller/IF2_Anc754_3jcj/model1.pdb', '../Results/modeller/IF2_Anc788_3jcj/model1.pdb']\n"
     ]
    }
   ],
   "source": [
    "###Using empirical models as the reference case\n",
    "###modern IF2 vs modern EFTU\n",
    "reference_molecules = [('IF2', '3jcjF'), ('EFTU','1efc')]\n",
    "reference_files = ['../Data/Structures/Template_structures/3jcjF.clean.pdb',\n",
    "                   '../Data/Structures/Template_structures/1efc.clean.pdb']\n",
    "\n",
    "###NOTE: select template here!\n",
    "# template = '1zo1'\n",
    "template = '3jcj'\n",
    "# template = '3jcj_1efc'\n",
    "\n",
    "\n",
    "\n",
    "model_source = 'modeller'\n",
    "test_dirs = glob.glob('../Results/{}/*'.format(model_source))\n",
    "test_dirs = sorted([i for i in test_dirs if 'IF2_Anc' in i])\n",
    "if template == '1zo1':\n",
    "    test_dirs = [i for i in test_dirs if 'Anc' == i[-6:-3]]\n",
    "else:\n",
    "    test_dirs = [i for i in test_dirs if template == i[-len(template):]]\n",
    "print('Found {} directories of interest'.format(len(test_dirs)))\n",
    "best_model_locs = []\n",
    "for i in test_dirs:\n",
    "    if 'Anc789' in i:###This wasn't in the original dataset so ommitting from analyses for now\n",
    "        continue\n",
    "    print(i)\n",
    "    method = i.split('/')[-2]\n",
    "    prot = i.split('/')[-1].split('_')[0]\n",
    "    molecule = i.split('/')[-1].split('_')[1]\n",
    "    print(method, prot, molecule)\n",
    "    temp_df = full_df[(full_df['protein']==prot)&(full_df['variant']==molecule)&(full_df['source']==method)]\n",
    "    temp_df = temp_df[temp_df['template']==template]\n",
    "    temp_df.sort_values('qmeandisco_score', ascending=False)\n",
    "    assert temp_df.shape[0]== 5\n",
    "    model = temp_df.iloc[0]['model_number']\n",
    "    file_loc = i + '/' + '{}.pdb'.format(model)\n",
    "    best_model_locs.append(file_loc)\n",
    "print('Test file locations:\\n', best_model_locs)"
   ]
  },
  {
   "cell_type": "code",
   "execution_count": null,
   "metadata": {},
   "outputs": [],
   "source": []
  },
  {
   "cell_type": "markdown",
   "metadata": {},
   "source": [
    "## Run `TM-align`"
   ]
  },
  {
   "cell_type": "code",
   "execution_count": 7,
   "metadata": {},
   "outputs": [
    {
     "name": "stdout",
     "output_type": "stream",
     "text": [
      "*** Reference file: ../Data/Structures/Template_structures/3jcjF.clean.pdb\n",
      "../Results/modeller/IF2_Anc520_3jcj/model1.pdb\n",
      "../Results/modeller/IF2_Anc536_3jcj/model1.pdb\n",
      "../Results/modeller/IF2_Anc550_3jcj/model1.pdb\n",
      "../Results/modeller/IF2_Anc558_3jcj/model1.pdb\n",
      "../Results/modeller/IF2_Anc622_3jcj/model1.pdb\n",
      "../Results/modeller/IF2_Anc670_3jcj/model1.pdb\n",
      "../Results/modeller/IF2_Anc702_3jcj/model1.pdb\n",
      "../Results/modeller/IF2_Anc719_3jcj/model1.pdb\n",
      "../Results/modeller/IF2_Anc743_3jcj/model1.pdb\n",
      "../Results/modeller/IF2_Anc750_3jcj/model1.pdb\n",
      "../Results/modeller/IF2_Anc754_3jcj/model1.pdb\n",
      "../Results/modeller/IF2_Anc788_3jcj/model1.pdb\n",
      "*** Reference file: ../Data/Structures/Template_structures/1efc.clean.pdb\n",
      "../Results/modeller/IF2_Anc520_3jcj/model1.pdb\n",
      "../Results/modeller/IF2_Anc536_3jcj/model1.pdb\n",
      "../Results/modeller/IF2_Anc550_3jcj/model1.pdb\n",
      "../Results/modeller/IF2_Anc558_3jcj/model1.pdb\n",
      "../Results/modeller/IF2_Anc622_3jcj/model1.pdb\n",
      "../Results/modeller/IF2_Anc670_3jcj/model1.pdb\n",
      "../Results/modeller/IF2_Anc702_3jcj/model1.pdb\n",
      "../Results/modeller/IF2_Anc719_3jcj/model1.pdb\n",
      "../Results/modeller/IF2_Anc743_3jcj/model1.pdb\n",
      "../Results/modeller/IF2_Anc750_3jcj/model1.pdb\n",
      "../Results/modeller/IF2_Anc754_3jcj/model1.pdb\n",
      "../Results/modeller/IF2_Anc788_3jcj/model1.pdb\n"
     ]
    }
   ],
   "source": [
    "y_plot_dict = {}\n",
    "x_plot_dict = {}\n",
    "for metric in ['RMSD', 'TM-score']:\n",
    "    y_plot_dict[metric] = {}\n",
    "    \n",
    "for reference_info, reference_file in zip(reference_molecules, reference_files):\n",
    "    print('*** Reference file:', reference_file)\n",
    "    ref_name = '_'.join(reference_info)\n",
    "    rmsd_list = []\n",
    "    tm_list = []\n",
    "    labels = []\n",
    "    for pdb_file in best_model_locs:\n",
    "        print(pdb_file)\n",
    "        with open('./temp.out', 'w') as outfile:\n",
    "            subprocess.call('TMalign {} {}'.format(pdb_file, reference_file), stdout=outfile, shell=True)\n",
    "        with open('./temp.out', 'r') as infile:\n",
    "            for line in infile:\n",
    "                if 'RMSD=' in line:\n",
    "                    rmsd_list.append(float(line.split(',')[1].split('=')[-1]))\n",
    "                if 'TM-score=' in line and 'Chain_2' in line:\n",
    "                    tm_list.append(float(line.split('(')[0].split('=')[-1]))\n",
    "\n",
    "        labels.append(pdb_file.split('/')[-2])\n",
    "    y_plot_dict['RMSD'][ref_name] = rmsd_list\n",
    "    y_plot_dict['TM-score'][ref_name] = tm_list\n",
    "    x_plot_dict[ref_name] = labels"
   ]
  },
  {
   "cell_type": "code",
   "execution_count": 8,
   "metadata": {},
   "outputs": [
    {
     "name": "stdout",
     "output_type": "stream",
     "text": [
      "Comparison with IF2_3jcjF: SpearmanrResult(correlation=0.30069930069930073, pvalue=0.34225952894002465)\n",
      "Comparison with EFTU_1efc: SpearmanrResult(correlation=0.20423041640915962, pvalue=0.5243243274359985)\n",
      "\n",
      "\n",
      "IF2_3jcjF SpearmanrResult(correlation=-0.3356643356643357, pvalue=0.2861229029149875)\n",
      "EFTU_1efc SpearmanrResult(correlation=-0.10489510489510491, pvalue=0.7456094809807079)\n"
     ]
    },
    {
     "data": {
      "text/plain": [
       "<matplotlib.legend.Legend at 0x7fd093addf50>"
      ]
     },
     "execution_count": 8,
     "metadata": {},
     "output_type": "execute_result"
    },
    {
     "data": {
      "image/png": "[encoded data removed]",
      "text/plain": [
       "<Figure size 750x300 with 1 Axes>"
      ]
     },
     "metadata": {
      "needs_background": "light"
     },
     "output_type": "display_data"
    },
    {
     "data": {
      "image/png": "[encoded data removed]",
      "text/plain": [
       "<Figure size 750x300 with 1 Axes>"
      ]
     },
     "metadata": {
      "needs_background": "light"
     },
     "output_type": "display_data"
    }
   ],
   "source": [
    "metric = 'RMSD'\n",
    "fig, ax = plt.subplots(figsize=(5,2))\n",
    "for key, vals in y_plot_dict[metric].items():\n",
    "    ax.plot(vals, marker='s', label=key)\n",
    "    print('Comparison with {}:'.format(key), stats.spearmanr(range(len(vals)), vals))\n",
    "ax.set_xticks(range(len(best_model_locs)))\n",
    "ax.set_xticklabels(x_plot_dict[list(x_plot_dict.keys())[0]], rotation=50);\n",
    "ax.set_ylabel(metric)\n",
    "ax.legend(title='Reference comparison', ncol=2, loc=9, bbox_to_anchor=(0.5, 1.37))\n",
    "print()\n",
    "print()\n",
    "metric = 'TM-score'\n",
    "fig, ax = plt.subplots(figsize=(5,2))\n",
    "for key, vals in y_plot_dict[metric].items():\n",
    "    ax.plot(vals, marker='s', label=key)\n",
    "    print(key, stats.spearmanr(range(len(vals)), vals))\n",
    "ax.set_xticks(range(len(best_model_locs)))\n",
    "ax.set_xticklabels(x_plot_dict[list(x_plot_dict.keys())[0]], rotation=50);\n",
    "ax.set_ylabel(metric)\n",
    "ax.legend(title='Reference comparison', ncol=2, loc=9, bbox_to_anchor=(0.5, 1.37))"
   ]
  },
  {
   "cell_type": "markdown",
   "metadata": {},
   "source": [
    "## Runnning `SPalign-NS`"
   ]
  },
  {
   "cell_type": "code",
   "execution_count": 9,
   "metadata": {},
   "outputs": [
    {
     "name": "stdout",
     "output_type": "stream",
     "text": [
      "Comparison with ../Data/Structures/Template_structures/3jcjF.clean.pdb:\n",
      "../Results/modeller/IF2_Anc520_3jcj/model1.pdb\n",
      "../Results/modeller/IF2_Anc536_3jcj/model1.pdb\n",
      "../Results/modeller/IF2_Anc550_3jcj/model1.pdb\n",
      "../Results/modeller/IF2_Anc558_3jcj/model1.pdb\n",
      "../Results/modeller/IF2_Anc622_3jcj/model1.pdb\n"
     ]
    },
    {
     "ename": "KeyboardInterrupt",
     "evalue": "",
     "output_type": "error",
     "traceback": [
      "\u001b[0;31m---------------------------------------------------------------------------\u001b[0m",
      "\u001b[0;31mKeyboardInterrupt\u001b[0m                         Traceback (most recent call last)",
      "\u001b[0;32m<ipython-input-9-f24613ae031a>\u001b[0m in \u001b[0;36m<module>\u001b[0;34m\u001b[0m\n\u001b[1;32m     13\u001b[0m         \u001b[0mprint\u001b[0m\u001b[0;34m(\u001b[0m\u001b[0mpdb_file\u001b[0m\u001b[0;34m)\u001b[0m\u001b[0;34m\u001b[0m\u001b[0;34m\u001b[0m\u001b[0m\n\u001b[1;32m     14\u001b[0m         \u001b[0;32mwith\u001b[0m \u001b[0mopen\u001b[0m\u001b[0;34m(\u001b[0m\u001b[0;34m'./temp.out'\u001b[0m\u001b[0;34m,\u001b[0m \u001b[0;34m'w'\u001b[0m\u001b[0;34m)\u001b[0m \u001b[0;32mas\u001b[0m \u001b[0moutfile\u001b[0m\u001b[0;34m:\u001b[0m\u001b[0;34m\u001b[0m\u001b[0;34m\u001b[0m\u001b[0m\n\u001b[0;32m---> 15\u001b[0;31m             \u001b[0msubprocess\u001b[0m\u001b[0;34m.\u001b[0m\u001b[0mcall\u001b[0m\u001b[0;34m(\u001b[0m\u001b[0;34m'~/workspace/SPalignNS/SPalignNS {} {}'\u001b[0m\u001b[0;34m.\u001b[0m\u001b[0mformat\u001b[0m\u001b[0;34m(\u001b[0m\u001b[0mpdb_file\u001b[0m\u001b[0;34m,\u001b[0m \u001b[0mreference_file\u001b[0m\u001b[0;34m)\u001b[0m\u001b[0;34m,\u001b[0m \u001b[0mstdout\u001b[0m\u001b[0;34m=\u001b[0m\u001b[0moutfile\u001b[0m\u001b[0;34m,\u001b[0m \u001b[0mshell\u001b[0m\u001b[0;34m=\u001b[0m\u001b[0;32mTrue\u001b[0m\u001b[0;34m)\u001b[0m\u001b[0;34m\u001b[0m\u001b[0;34m\u001b[0m\u001b[0m\n\u001b[0m\u001b[1;32m     16\u001b[0m         \u001b[0;32mwith\u001b[0m \u001b[0mopen\u001b[0m\u001b[0;34m(\u001b[0m\u001b[0;34m'./temp.out'\u001b[0m\u001b[0;34m,\u001b[0m \u001b[0;34m'r'\u001b[0m\u001b[0;34m)\u001b[0m \u001b[0;32mas\u001b[0m \u001b[0minfile\u001b[0m\u001b[0;34m:\u001b[0m\u001b[0;34m\u001b[0m\u001b[0;34m\u001b[0m\u001b[0m\n\u001b[1;32m     17\u001b[0m             \u001b[0;32mfor\u001b[0m \u001b[0mline\u001b[0m \u001b[0;32min\u001b[0m \u001b[0minfile\u001b[0m\u001b[0;34m:\u001b[0m\u001b[0;34m\u001b[0m\u001b[0;34m\u001b[0m\u001b[0m\n",
      "\u001b[0;32m~/anaconda3/lib/python3.7/subprocess.py\u001b[0m in \u001b[0;36mcall\u001b[0;34m(timeout, *popenargs, **kwargs)\u001b[0m\n\u001b[1;32m    339\u001b[0m     \u001b[0;32mwith\u001b[0m \u001b[0mPopen\u001b[0m\u001b[0;34m(\u001b[0m\u001b[0;34m*\u001b[0m\u001b[0mpopenargs\u001b[0m\u001b[0;34m,\u001b[0m \u001b[0;34m**\u001b[0m\u001b[0mkwargs\u001b[0m\u001b[0;34m)\u001b[0m \u001b[0;32mas\u001b[0m \u001b[0mp\u001b[0m\u001b[0;34m:\u001b[0m\u001b[0;34m\u001b[0m\u001b[0;34m\u001b[0m\u001b[0m\n\u001b[1;32m    340\u001b[0m         \u001b[0;32mtry\u001b[0m\u001b[0;34m:\u001b[0m\u001b[0;34m\u001b[0m\u001b[0;34m\u001b[0m\u001b[0m\n\u001b[0;32m--> 341\u001b[0;31m             \u001b[0;32mreturn\u001b[0m \u001b[0mp\u001b[0m\u001b[0;34m.\u001b[0m\u001b[0mwait\u001b[0m\u001b[0;34m(\u001b[0m\u001b[0mtimeout\u001b[0m\u001b[0;34m=\u001b[0m\u001b[0mtimeout\u001b[0m\u001b[0;34m)\u001b[0m\u001b[0;34m\u001b[0m\u001b[0;34m\u001b[0m\u001b[0m\n\u001b[0m\u001b[1;32m    342\u001b[0m         \u001b[0;32mexcept\u001b[0m\u001b[0;34m:\u001b[0m  \u001b[0;31m# Including KeyboardInterrupt, wait handled that.\u001b[0m\u001b[0;34m\u001b[0m\u001b[0;34m\u001b[0m\u001b[0m\n\u001b[1;32m    343\u001b[0m             \u001b[0mp\u001b[0m\u001b[0;34m.\u001b[0m\u001b[0mkill\u001b[0m\u001b[0;34m(\u001b[0m\u001b[0;34m)\u001b[0m\u001b[0;34m\u001b[0m\u001b[0;34m\u001b[0m\u001b[0m\n",
      "\u001b[0;32m~/anaconda3/lib/python3.7/subprocess.py\u001b[0m in \u001b[0;36mwait\u001b[0;34m(self, timeout)\u001b[0m\n\u001b[1;32m   1017\u001b[0m             \u001b[0mendtime\u001b[0m \u001b[0;34m=\u001b[0m \u001b[0m_time\u001b[0m\u001b[0;34m(\u001b[0m\u001b[0;34m)\u001b[0m \u001b[0;34m+\u001b[0m \u001b[0mtimeout\u001b[0m\u001b[0;34m\u001b[0m\u001b[0;34m\u001b[0m\u001b[0m\n\u001b[1;32m   1018\u001b[0m         \u001b[0;32mtry\u001b[0m\u001b[0;34m:\u001b[0m\u001b[0;34m\u001b[0m\u001b[0;34m\u001b[0m\u001b[0m\n\u001b[0;32m-> 1019\u001b[0;31m             \u001b[0;32mreturn\u001b[0m \u001b[0mself\u001b[0m\u001b[0;34m.\u001b[0m\u001b[0m_wait\u001b[0m\u001b[0;34m(\u001b[0m\u001b[0mtimeout\u001b[0m\u001b[0;34m=\u001b[0m\u001b[0mtimeout\u001b[0m\u001b[0;34m)\u001b[0m\u001b[0;34m\u001b[0m\u001b[0;34m\u001b[0m\u001b[0m\n\u001b[0m\u001b[1;32m   1020\u001b[0m         \u001b[0;32mexcept\u001b[0m \u001b[0mKeyboardInterrupt\u001b[0m\u001b[0;34m:\u001b[0m\u001b[0;34m\u001b[0m\u001b[0;34m\u001b[0m\u001b[0m\n\u001b[1;32m   1021\u001b[0m             \u001b[0;31m# https://bugs.python.org/issue25942\u001b[0m\u001b[0;34m\u001b[0m\u001b[0;34m\u001b[0m\u001b[0;34m\u001b[0m\u001b[0m\n",
      "\u001b[0;32m~/anaconda3/lib/python3.7/subprocess.py\u001b[0m in \u001b[0;36m_wait\u001b[0;34m(self, timeout)\u001b[0m\n\u001b[1;32m   1651\u001b[0m                         \u001b[0;32mif\u001b[0m \u001b[0mself\u001b[0m\u001b[0;34m.\u001b[0m\u001b[0mreturncode\u001b[0m \u001b[0;32mis\u001b[0m \u001b[0;32mnot\u001b[0m \u001b[0;32mNone\u001b[0m\u001b[0;34m:\u001b[0m\u001b[0;34m\u001b[0m\u001b[0;34m\u001b[0m\u001b[0m\n\u001b[1;32m   1652\u001b[0m                             \u001b[0;32mbreak\u001b[0m  \u001b[0;31m# Another thread waited.\u001b[0m\u001b[0;34m\u001b[0m\u001b[0;34m\u001b[0m\u001b[0m\n\u001b[0;32m-> 1653\u001b[0;31m                         \u001b[0;34m(\u001b[0m\u001b[0mpid\u001b[0m\u001b[0;34m,\u001b[0m \u001b[0msts\u001b[0m\u001b[0;34m)\u001b[0m \u001b[0;34m=\u001b[0m \u001b[0mself\u001b[0m\u001b[0;34m.\u001b[0m\u001b[0m_try_wait\u001b[0m\u001b[0;34m(\u001b[0m\u001b[0;36m0\u001b[0m\u001b[0;34m)\u001b[0m\u001b[0;34m\u001b[0m\u001b[0;34m\u001b[0m\u001b[0m\n\u001b[0m\u001b[1;32m   1654\u001b[0m                         \u001b[0;31m# Check the pid and loop as waitpid has been known to\u001b[0m\u001b[0;34m\u001b[0m\u001b[0;34m\u001b[0m\u001b[0;34m\u001b[0m\u001b[0m\n\u001b[1;32m   1655\u001b[0m                         \u001b[0;31m# return 0 even without WNOHANG in odd situations.\u001b[0m\u001b[0;34m\u001b[0m\u001b[0;34m\u001b[0m\u001b[0;34m\u001b[0m\u001b[0m\n",
      "\u001b[0;32m~/anaconda3/lib/python3.7/subprocess.py\u001b[0m in \u001b[0;36m_try_wait\u001b[0;34m(self, wait_flags)\u001b[0m\n\u001b[1;32m   1609\u001b[0m             \u001b[0;34m\"\"\"All callers to this function MUST hold self._waitpid_lock.\"\"\"\u001b[0m\u001b[0;34m\u001b[0m\u001b[0;34m\u001b[0m\u001b[0m\n\u001b[1;32m   1610\u001b[0m             \u001b[0;32mtry\u001b[0m\u001b[0;34m:\u001b[0m\u001b[0;34m\u001b[0m\u001b[0;34m\u001b[0m\u001b[0m\n\u001b[0;32m-> 1611\u001b[0;31m                 \u001b[0;34m(\u001b[0m\u001b[0mpid\u001b[0m\u001b[0;34m,\u001b[0m \u001b[0msts\u001b[0m\u001b[0;34m)\u001b[0m \u001b[0;34m=\u001b[0m \u001b[0mos\u001b[0m\u001b[0;34m.\u001b[0m\u001b[0mwaitpid\u001b[0m\u001b[0;34m(\u001b[0m\u001b[0mself\u001b[0m\u001b[0;34m.\u001b[0m\u001b[0mpid\u001b[0m\u001b[0;34m,\u001b[0m \u001b[0mwait_flags\u001b[0m\u001b[0;34m)\u001b[0m\u001b[0;34m\u001b[0m\u001b[0;34m\u001b[0m\u001b[0m\n\u001b[0m\u001b[1;32m   1612\u001b[0m             \u001b[0;32mexcept\u001b[0m \u001b[0mChildProcessError\u001b[0m\u001b[0;34m:\u001b[0m\u001b[0;34m\u001b[0m\u001b[0;34m\u001b[0m\u001b[0m\n\u001b[1;32m   1613\u001b[0m                 \u001b[0;31m# This happens if SIGCLD is set to be ignored or waiting\u001b[0m\u001b[0;34m\u001b[0m\u001b[0;34m\u001b[0m\u001b[0;34m\u001b[0m\u001b[0m\n",
      "\u001b[0;31mKeyboardInterrupt\u001b[0m: "
     ]
    }
   ],
   "source": [
    "y_plot_dict = {}\n",
    "x_plot_dict = {}\n",
    "for metric in ['RMSD', 'SP-score']:\n",
    "    y_plot_dict[metric] = {}\n",
    "\n",
    "for reference_info, reference_file in zip(reference_molecules, reference_files):\n",
    "    print('Comparison with {}:'.format(reference_file))\n",
    "    ref_name = '_'.join(reference_info)\n",
    "    rmsd_list = []\n",
    "    sp_list = []\n",
    "    labels = []\n",
    "    for pdb_file in best_model_locs:\n",
    "        print(pdb_file)\n",
    "        with open('./temp.out', 'w') as outfile:\n",
    "            subprocess.call('~/workspace/SPalignNS/SPalignNS {} {}'.format(pdb_file, reference_file), stdout=outfile, shell=True)\n",
    "        with open('./temp.out', 'r') as infile:\n",
    "            for line in infile:\n",
    "                if 'RMSD/Nali' in line:\n",
    "                    rmsd_list.append(float(line.split('=')[1].split('/')[0]))\n",
    "                if 'SP-score' in line:\n",
    "                    sp_list.append(float(line.split(':')[1].split('(')[0]))\n",
    "\n",
    "\n",
    "        labels.append(pdb_file.split('/')[-2])\n",
    "        \n",
    "    y_plot_dict['RMSD'][ref_name] = rmsd_list\n",
    "    y_plot_dict['SP-score'][ref_name] = sp_list\n",
    "    x_plot_dict[ref_name] = labels"
   ]
  },
  {
   "cell_type": "code",
   "execution_count": 51,
   "metadata": {},
   "outputs": [
    {
     "name": "stdout",
     "output_type": "stream",
     "text": [
      "IF2_3jcjF SpearmanrResult(correlation=-0.7762237762237763, pvalue=0.0029928636801859797)\n",
      "EFTU_1efc SpearmanrResult(correlation=0.1776425927604834, pvalue=0.5807122554656803)\n",
      "\n",
      "\n",
      "IF2_3jcjF SpearmanrResult(correlation=-0.10489510489510491, pvalue=0.7456094809807079)\n",
      "EFTU_1efc SpearmanrResult(correlation=-0.2605698416254795, pvalue=0.41337102043327534)\n"
     ]
    },
    {
     "data": {
      "text/plain": [
       "<matplotlib.legend.Legend at 0x7fd79fb88d50>"
      ]
     },
     "execution_count": 51,
     "metadata": {},
     "output_type": "execute_result"
    },
    {
     "data": {
      "image/png": "[encoded data removed]",
      "text/plain": [
       "<Figure size 750x300 with 1 Axes>"
      ]
     },
     "metadata": {
      "needs_background": "light"
     },
     "output_type": "display_data"
    },
    {
     "data": {
      "image/png": "[encoded data removed]",
      "text/plain": [
       "<Figure size 750x300 with 1 Axes>"
      ]
     },
     "metadata": {
      "needs_background": "light"
     },
     "output_type": "display_data"
    }
   ],
   "source": [
    "metric = 'RMSD'\n",
    "fig, ax = plt.subplots(figsize=(5,2))\n",
    "for key, vals in y_plot_dict[metric].items():\n",
    "    ax.plot(vals, marker='s', label=key)\n",
    "    print(key, stats.spearmanr(range(len(vals)), vals))\n",
    "ax.set_xticks(range(len(best_model_locs)))\n",
    "ax.set_xticklabels(x_plot_dict[list(x_plot_dict.keys())[0]], rotation=50);\n",
    "ax.set_ylabel(metric)\n",
    "ax.legend(title='Reference comparison', ncol=2, loc=9, bbox_to_anchor=(0.5, 1.37))\n",
    "print()\n",
    "print()\n",
    "metric = 'SP-score'\n",
    "fig, ax = plt.subplots(figsize=(5,2))\n",
    "for key, vals in y_plot_dict['SP-score'].items():\n",
    "    ax.plot(vals, marker='s', label=key)\n",
    "    print(key, stats.spearmanr(range(len(vals)), vals))\n",
    "ax.set_xticks(range(len(best_model_locs)))\n",
    "ax.set_xticklabels(x_plot_dict[list(x_plot_dict.keys())[0]], rotation=50);\n",
    "ax.set_ylabel(metric)\n",
    "ax.legend(title='Reference comparison', ncol=2, loc=9, bbox_to_anchor=(0.5, 1.37))"
   ]
  },
  {
   "cell_type": "code",
   "execution_count": null,
   "metadata": {},
   "outputs": [],
   "source": []
  },
  {
   "cell_type": "code",
   "execution_count": null,
   "metadata": {},
   "outputs": [],
   "source": []
  },
  {
   "cell_type": "code",
   "execution_count": null,
   "metadata": {},
   "outputs": [],
   "source": []
  },
  {
   "cell_type": "markdown",
   "metadata": {},
   "source": [
    "# Selecting reference and comparison files\n",
    "## First, select reference file/s that other structures will be compared with\n",
    "\n",
    "A few options here as one might wish to compare structures to extant `IF2` and `EFTU` structures, or to ancestral `EFTU` and extant `EFTU`, or (my preferred approach) to *predictions* of extant `IF2` and `EFTU` structures (when possible), etc."
   ]
  },
  {
   "cell_type": "code",
   "execution_count": null,
   "metadata": {},
   "outputs": [],
   "source": [
    "###Using model predictions of empirical models as a reference case\n",
    "# reference_molecules = [('IF2', '3jcjF'), ('EFTU','1efc')]\n",
    "# reference_molecules = [('EFTU', 'Anc262'), ('EFTU','1efc')]\n",
    "# reference_id = 'ITASSER'\n",
    "# ###Gather exact reference file locations\n",
    "# reference_files = []\n",
    "# for protein, reference in reference_molecules:\n",
    "#     best_model = df[(df['protein']==protein)&(df['variant']==reference)&(df['source']==reference_id)]\n",
    "#     assert best_model.shape[0] == 1\n",
    "#     best_model = best_model.iloc[0]['model_number']\n",
    "#     reference_file_loc = '../Results/{}/{}_{}/{}.pdb'.format(reference_id, protein, reference, best_model)\n",
    "#     reference_files.append(reference_file_loc)\n",
    "# print(reference_files)\n",
    "\n",
    "\n",
    "###Using empirical models as the reference case\n",
    "###modern IF2 vs modern EFTU\n",
    "reference_molecules = [('IF2', '3jcjF'), ('EFTU','1efc')]\n",
    "reference_files = ['../Data/Structures/Template_structures/3jcjF.clean.pdb',\n",
    "                   '../Data/Structures/Template_structures/1efc.clean.pdb']\n",
    "\n",
    "\n",
    "###ancestral EFTU vs modern EFTU \n",
    "# reference_molecules = [('EFTU', '6gfu'), ('EFTU','1efc')]\n",
    "# reference_files = ['../Data/Structures/Templates/6gfu.clean.pdb',\n",
    "#                    '../Data/Structures/Templates/1efc.clean.pdb']\n",
    "# print(reference_files)"
   ]
  },
  {
   "cell_type": "code",
   "execution_count": null,
   "metadata": {},
   "outputs": [],
   "source": []
  },
  {
   "cell_type": "markdown",
   "metadata": {},
   "source": [
    "## Test files (in a sorted order)"
   ]
  },
  {
   "cell_type": "code",
   "execution_count": null,
   "metadata": {},
   "outputs": [],
   "source": [
    "model_source = 'ITASSER'\n",
    "test_dirs = glob.glob('../Results/{}/*'.format(model_source))\n",
    "test_dirs = sorted([i for i in test_dirs if 'IF2_Anc' in i])\n",
    "best_model_locs = []\n",
    "for i in test_dirs:\n",
    "    print(i)\n",
    "    method = i.split('/')[-2]\n",
    "    prot = i.split('/')[-1].split('_')[0]\n",
    "    molecule = i.split('/')[-1].split('_')[1]\n",
    "    print(method, prot, molecule)\n",
    "    temp_df = df[(df['protein']==prot)&(df['variant']==molecule)&(df['source']==method)]\n",
    "    assert temp_df.shape[0]==1\n",
    "    model = temp_df.iloc[0]['model_number']\n",
    "    file_loc = i + '/' + '{}.pdb'.format(model)\n",
    "    best_model_locs.append(file_loc)\n",
    "print('Test file locations:\\n', best_model_locs)"
   ]
  },
  {
   "cell_type": "markdown",
   "metadata": {},
   "source": [
    "# `TM-align` \n",
    "\n",
    "It has >2000 citations, but is a bit old at this point and certainly not the most accurate approach. See:\n",
    "\n",
    "https://academic.oup.com/nar/article/33/7/2302/2401364\n",
    "\n",
    "Using this mostly as a quick and dirty approach. There is a server (https://zhanglab.ccmb.med.umich.edu/TM-align/) but I installed the stand alone package (and this code assumes that you have it installed as well). Instructions for download/installation are included on the server page."
   ]
  },
  {
   "cell_type": "code",
   "execution_count": null,
   "metadata": {},
   "outputs": [],
   "source": [
    "y_plot_dict = {}\n",
    "x_plot_dict = {}\n",
    "for metric in ['RMSD', 'TM-score']:\n",
    "    y_plot_dict[metric] = {}\n",
    "    \n",
    "for reference_info, reference_file in zip(reference_molecules, reference_files):\n",
    "    print('*** Reference file:', reference_file)\n",
    "    ref_name = '_'.join(reference_info)\n",
    "    rmsd_list = []\n",
    "    tm_list = []\n",
    "    labels = []\n",
    "    for pdb_file in best_model_locs:\n",
    "        print(pdb_file)\n",
    "        with open('./temp.out', 'w') as outfile:\n",
    "            subprocess.call('TMalign {} {}'.format(pdb_file, reference_file), stdout=outfile, shell=True)\n",
    "        with open('./temp.out', 'r') as infile:\n",
    "            for line in infile:\n",
    "                if 'RMSD=' in line:\n",
    "                    rmsd_list.append(float(line.split(',')[1].split('=')[-1]))\n",
    "                if 'TM-score=' in line and 'Chain_2' in line:\n",
    "                    tm_list.append(float(line.split('(')[0].split('=')[-1]))\n",
    "\n",
    "        labels.append(pdb_file.split('/')[-2])\n",
    "    y_plot_dict['RMSD'][ref_name] = rmsd_list\n",
    "    y_plot_dict['TM-score'][ref_name] = tm_list\n",
    "    x_plot_dict[ref_name] = labels"
   ]
  },
  {
   "cell_type": "code",
   "execution_count": null,
   "metadata": {},
   "outputs": [],
   "source": [
    "metric = 'RMSD'\n",
    "fig, ax = plt.subplots(figsize=(5,2))\n",
    "for key, vals in y_plot_dict[metric].items():\n",
    "    ax.plot(vals, marker='s', label=key)\n",
    "    print('Comparison with {}:'.format(key), stats.spearmanr(range(len(vals)), vals))\n",
    "ax.set_xticks(range(len(best_model_locs)))\n",
    "ax.set_xticklabels(x_plot_dict[list(x_plot_dict.keys())[0]], rotation=50);\n",
    "ax.set_ylabel(metric)\n",
    "ax.legend(title='Reference comparison', ncol=2, loc=9, bbox_to_anchor=(0.5, 1.37))\n",
    "print()\n",
    "print()\n",
    "metric = 'TM-score'\n",
    "fig, ax = plt.subplots(figsize=(5,2))\n",
    "for key, vals in y_plot_dict[metric].items():\n",
    "    ax.plot(vals, marker='s', label=key)\n",
    "    print(key, stats.spearmanr(range(len(vals)), vals))\n",
    "ax.set_xticks(range(len(best_model_locs)))\n",
    "ax.set_xticklabels(x_plot_dict[list(x_plot_dict.keys())[0]], rotation=50);\n",
    "ax.set_ylabel(metric)\n",
    "ax.legend(title='Reference comparison', ncol=2, loc=9, bbox_to_anchor=(0.5, 1.37))"
   ]
  },
  {
   "cell_type": "code",
   "execution_count": null,
   "metadata": {},
   "outputs": [],
   "source": []
  },
  {
   "cell_type": "markdown",
   "metadata": {},
   "source": [
    "# `SP-alignNS` - my (current) preferred choice\n",
    "\n",
    "This program is not particularly well cited (https://academic.oup.com/bioinformatics/article/32/3/370/1743599, it built off of https://onlinelibrary.wiley.com/doi/abs/10.1002/prot.24100) but I'm a fan of benchmarks and in the large scale benchmarking test (see: https://link.springer.com/article/10.1007/s00239-020-09960-2) it performed as good or better than basically any program. It's not *fast* but not particularly slow either so I'm not saving results and just re-run the software to make the plots."
   ]
  },
  {
   "cell_type": "code",
   "execution_count": null,
   "metadata": {},
   "outputs": [],
   "source": [
    "y_plot_dict = {}\n",
    "x_plot_dict = {}\n",
    "for metric in ['RMSD', 'SP-score']:\n",
    "    y_plot_dict[metric] = {}\n",
    "\n",
    "for reference_info, reference_file in zip(reference_molecules, reference_files):\n",
    "    print('Comparison with {}:'.format(reference_file))\n",
    "    ref_name = '_'.join(reference_info)\n",
    "    rmsd_list = []\n",
    "    sp_list = []\n",
    "    labels = []\n",
    "    for pdb_file in best_model_locs:\n",
    "        print(pdb_file)\n",
    "        with open('./temp.out', 'w') as outfile:\n",
    "            subprocess.call('~/workspace/SPalignNS/SPalignNS {} {}'.format(pdb_file, reference_file), stdout=outfile, shell=True)\n",
    "        with open('./temp.out', 'r') as infile:\n",
    "            for line in infile:\n",
    "                if 'RMSD/Nali' in line:\n",
    "                    rmsd_list.append(float(line.split('=')[1].split('/')[0]))\n",
    "                if 'SP-score' in line:\n",
    "                    sp_list.append(float(line.split(':')[1].split('(')[0]))\n",
    "\n",
    "\n",
    "        labels.append(pdb_file.split('/')[-2])\n",
    "        \n",
    "    y_plot_dict['RMSD'][ref_name] = rmsd_list\n",
    "    y_plot_dict['SP-score'][ref_name] = sp_list\n",
    "    x_plot_dict[ref_name] = labels"
   ]
  },
  {
   "cell_type": "code",
   "execution_count": null,
   "metadata": {},
   "outputs": [],
   "source": [
    "metric = 'RMSD'\n",
    "fig, ax = plt.subplots(figsize=(5,2))\n",
    "for key, vals in y_plot_dict[metric].items():\n",
    "    ax.plot(vals, marker='s', label=key)\n",
    "    print(key, stats.spearmanr(range(len(vals)), vals))\n",
    "ax.set_xticks(range(len(best_model_locs)))\n",
    "ax.set_xticklabels(x_plot_dict[list(x_plot_dict.keys())[0]], rotation=50);\n",
    "ax.set_ylabel(metric)\n",
    "ax.legend(title='Reference comparison', ncol=2, loc=9, bbox_to_anchor=(0.5, 1.37))\n",
    "print()\n",
    "print()\n",
    "metric = 'SP-score'\n",
    "fig, ax = plt.subplots(figsize=(5,2))\n",
    "for key, vals in y_plot_dict['SP-score'].items():\n",
    "    ax.plot(vals, marker='s', label=key)\n",
    "    print(key, stats.spearmanr(range(len(vals)), vals))\n",
    "ax.set_xticks(range(len(best_model_locs)))\n",
    "ax.set_xticklabels(x_plot_dict[list(x_plot_dict.keys())[0]], rotation=50);\n",
    "ax.set_ylabel(metric)\n",
    "ax.legend(title='Reference comparison', ncol=2, loc=9, bbox_to_anchor=(0.5, 1.37))"
   ]
  },
  {
   "cell_type": "code",
   "execution_count": null,
   "metadata": {},
   "outputs": [],
   "source": []
  },
  {
   "cell_type": "markdown",
   "metadata": {},
   "source": [
    "# Comparing only extant structures"
   ]
  },
  {
   "cell_type": "code",
   "execution_count": null,
   "metadata": {},
   "outputs": [],
   "source": [
    "query_files = ['../Data/Structures/Templates/3jcjF.clean.pdb',\n",
    "              '../Data/Structures/Templates/6gfu.clean.pdb',\n",
    "              '../Data/Structures/Templates/3jcjF.clean.pdb',\n",
    "              '../Data/Structures/Templates/3jcjF.clean.pdb']\n",
    "reference_files = ['../Data/Structures/Templates/1zo1.clean.pdb',\n",
    "                  '../Data/Structures/Templates/1efc.clean.pdb',\n",
    "                  '../Data/Structures/Templates/6gfu.clean.pdb',\n",
    "                  '../Data/Structures/Templates/1efc.clean.pdb']\n",
    "x_labels = ['3JCJ vs 1ZO1',\n",
    "           '6GFU vs 1EFC',\n",
    "           '3JCJ vs 6GFU',\n",
    "           '3JCJ vs 1EFC']\n",
    "\n",
    "rmsd_list = []\n",
    "sp_list = []\n",
    "for query_file, reference_file in zip(query_files, reference_files):\n",
    "    with open('./temp.out', 'w') as outfile:\n",
    "        subprocess.call('~/workspace/SPalignNS/SPalignNS {} {}'.format(query_file, reference_file), stdout=outfile, shell=True)\n",
    "    with open('./temp.out', 'r') as infile:\n",
    "        lines = infile.readlines()\n",
    "    for line in lines:\n",
    "        if 'RMSD/Nali' in line:\n",
    "            rmsd_list.append(float(line.split('=')[1].split('/')[0]))\n",
    "        if 'SP-score' in line:\n",
    "            sp_list.append(float(line.split(':')[1].split('(')[0]))"
   ]
  },
  {
   "cell_type": "code",
   "execution_count": null,
   "metadata": {},
   "outputs": [],
   "source": [
    "rmsd_list, sp_list"
   ]
  },
  {
   "cell_type": "code",
   "execution_count": null,
   "metadata": {},
   "outputs": [],
   "source": [
    "metric = 'RMSD'\n",
    "fig, ax = plt.subplots(figsize=(5,2))\n",
    "for i, label in enumerate(x_labels):\n",
    "    ax.bar(i+1, rmsd_list[i])\n",
    "    \n",
    "ax.set_xticks(range(1, len(x_labels)+1))\n",
    "ax.set_xticklabels(x_labels, rotation=50);\n",
    "ax.set_ylabel(metric)\n",
    "ax.set_ylim(0, 4)\n",
    "ax.set_xlim(0,5)\n",
    "\n",
    "metric = 'SP-score'\n",
    "fig, ax = plt.subplots(figsize=(5,2))\n",
    "for i, label in enumerate(x_labels):\n",
    "    ax.bar(i+1, sp_list[i])\n",
    "ax.set_xticks(range(1, len(x_labels)+1))\n",
    "ax.set_xticklabels(x_labels, rotation=50);\n",
    "ax.set_ylabel(metric)\n",
    "ax.set_ylim(0, 1.75)\n",
    "ax.set_xlim(0,5)"
   ]
  },
  {
   "cell_type": "code",
   "execution_count": null,
   "metadata": {},
   "outputs": [],
   "source": []
  },
  {
   "cell_type": "markdown",
   "metadata": {},
   "source": [
    "# Scratch"
   ]
  },
  {
   "cell_type": "code",
   "execution_count": null,
   "metadata": {},
   "outputs": [],
   "source": []
  },
  {
   "cell_type": "markdown",
   "metadata": {},
   "source": [
    "Use FastSP score to quickly and easily compare reference alignments: https://academic.oup.com/bioinformatics/article/27/23/3250/234345\n",
    "\n",
    "Code available after some searching here: https://sites.google.com/eng.ucsd.edu/datasets/alignment/fastsp"
   ]
  },
  {
   "cell_type": "markdown",
   "metadata": {},
   "source": [
    "**Run a quick structure alignment**"
   ]
  },
  {
   "cell_type": "code",
   "execution_count": null,
   "metadata": {},
   "outputs": [],
   "source": [
    "query_file = '../Data/Structures/Templates/3jcjF.clean.pdb'\n",
    "reference_file = '../Data/Structures/Templates/1efc.clean.pdb'\n",
    "\n",
    "\n",
    "with open('./temp.out', 'w') as outfile:\n",
    "    subprocess.call('~/workspace/SPalignNS/SPalignNS {} {}'.format(query_file, reference_file), stdout=outfile, shell=True)\n",
    "with open('./temp.out', 'r') as infile:\n",
    "    lines = infile.readlines()\n",
    "struct_if = lines[-3].split(' ')[-2]\n",
    "struct_eftu = lines[-1].split(' ')[-2]\n",
    "print('\\n', struct_if, '\\n\\n', struct_eftu)\n",
    "\n",
    "# with open('./temp.out', 'w') as outfile:\n",
    "#     subprocess.call('TMalign {} {}'.format(query_file, reference_file), stdout=outfile, shell=True)\n",
    "# with open('./temp.out', 'r') as infile:\n",
    "#     lines = infile.readlines()\n",
    "# struct_if = lines[-5].strip()\n",
    "# struct_eftu = lines[-3].strip()\n",
    "# print('\\n', struct_if, '\\n\\n', struct_eftu)"
   ]
  },
  {
   "cell_type": "markdown",
   "metadata": {},
   "source": [
    "**Extract *E. coli* sequences from the larger sequence alignment**"
   ]
  },
  {
   "cell_type": "code",
   "execution_count": null,
   "metadata": {},
   "outputs": [],
   "source": [
    "aln_seq_a = list(SeqIO.parse('../Data/AJH/combined_group_fast.aln', 'fasta'))\n",
    "for i, seq in enumerate(aln_seq_a):\n",
    "    if 'ECOLI' in seq.id:\n",
    "        print(i, seq.id)\n",
    "seq_if_temp = str(aln_seq_a[243].seq)\n",
    "seq_eftu_temp = str(aln_seq_a[592].seq)\n",
    "seq_if = seq_if_temp\n",
    "seq_eftu = seq_eftu_temp\n",
    "# seq_if = ''.join([i for i,j in zip(seq_if_temp, seq_eftu_temp) if i+j != '--'])\n",
    "# seq_eftu = ''.join([j for i,j in zip(seq_if_temp, seq_eftu_temp) if i+j != '--'])\n",
    "print('****************')\n",
    "print(seq_if)\n",
    "print()\n",
    "print(seq_eftu)"
   ]
  },
  {
   "cell_type": "code",
   "execution_count": null,
   "metadata": {},
   "outputs": [],
   "source": [
    "print(len(struct_if), len(struct_eftu), len(seq_if), len(seq_eftu))"
   ]
  },
  {
   "cell_type": "markdown",
   "metadata": {},
   "source": [
    "**Slice from the beginning to the end of the sequences**"
   ]
  },
  {
   "cell_type": "code",
   "execution_count": null,
   "metadata": {},
   "outputs": [],
   "source": [
    "# new_index = 35 ###For \"fast\"\n",
    "# new_index = 37 ###For \"linsi\"\n",
    "new_index = 33 ###For \"ginsi\"\n",
    "# seq_if = seq_if[new_index:]\n",
    "# seq_eftu = seq_eftu[new_index:]"
   ]
  },
  {
   "cell_type": "code",
   "execution_count": null,
   "metadata": {},
   "outputs": [],
   "source": [
    "# print(struct_if[:60])\n",
    "# print()\n",
    "# print(struct_eftu[:60])\n",
    "# print()\n",
    "# print()\n",
    "# print()\n",
    "# print(seq_if[:60])\n",
    "# print()\n",
    "# print(seq_eftu[:60])\n",
    "######################\n",
    "print(struct_if[:])\n",
    "print()\n",
    "print(struct_eftu[:])\n",
    "print()\n",
    "print()\n",
    "print()\n",
    "print(seq_if[:])\n",
    "print()\n",
    "print(seq_eftu[:])"
   ]
  },
  {
   "cell_type": "code",
   "execution_count": null,
   "metadata": {},
   "outputs": [],
   "source": [
    "struct_if_indices = []\n",
    "struct_eftu_indices = []\n",
    "if_counter = 0\n",
    "eftu_counter = 0\n",
    "for i, j in zip(struct_if, struct_eftu):\n",
    "    if i != '-':\n",
    "        struct_if_indices.append(if_counter)\n",
    "        struct_eftu_indices.append(eftu_counter)\n",
    "        if_counter += 1\n",
    "    if j != '-':\n",
    "        eftu_counter += 1\n",
    "        \n",
    "seq_if_indices = []\n",
    "seq_eftu_indices = []\n",
    "if_counter = 0\n",
    "eftu_counter = -7\n",
    "for i, j in zip(seq_if, seq_eftu):\n",
    "    if i != '-':\n",
    "        seq_if_indices.append(if_counter)\n",
    "        seq_eftu_indices.append(eftu_counter)\n",
    "        if_counter += 1\n",
    "    if j != '-':\n",
    "        eftu_counter += 1"
   ]
  },
  {
   "cell_type": "code",
   "execution_count": null,
   "metadata": {},
   "outputs": [],
   "source": [
    "print(struct_eftu_indices)"
   ]
  },
  {
   "cell_type": "code",
   "execution_count": null,
   "metadata": {},
   "outputs": [],
   "source": [
    "print(seq_eftu_indices)"
   ]
  },
  {
   "cell_type": "code",
   "execution_count": null,
   "metadata": {},
   "outputs": [],
   "source": [
    "hits = 0\n",
    "possible = 0\n",
    "for i in range(min([len(seq_eftu_indices), len(struct_eftu_indices)])):\n",
    "    if seq_eftu_indices[i] == struct_eftu_indices[i]:\n",
    "        hits += 1\n",
    "    possible += 1\n",
    "print(hits, possible)"
   ]
  },
  {
   "cell_type": "code",
   "execution_count": null,
   "metadata": {},
   "outputs": [],
   "source": [
    "hits = 0\n",
    "possible = 0\n",
    "for i in range(min([len(seq_if_indices), len(struct_if_indices)])):\n",
    "    if seq_if_indices[i] == struct_if_indices[i]:\n",
    "        hits += 1\n",
    "    possible += 1\n",
    "print(hits, possible)"
   ]
  },
  {
   "cell_type": "markdown",
   "metadata": {},
   "source": [
    "**Now remove gaps from index lists according to the respective IF alignments**"
   ]
  },
  {
   "cell_type": "code",
   "execution_count": null,
   "metadata": {},
   "outputs": [],
   "source": []
  },
  {
   "cell_type": "code",
   "execution_count": null,
   "metadata": {},
   "outputs": [],
   "source": []
  },
  {
   "cell_type": "code",
   "execution_count": null,
   "metadata": {},
   "outputs": [],
   "source": [
    "matches = 0\n",
    "for i, ns in enumerate(zip(seq_eftu, struct_eftu)):\n",
    "    a, b = ns\n",
    "    if a == b:\n",
    "        matches += 1\n",
    "print(matches)"
   ]
  },
  {
   "cell_type": "code",
   "execution_count": null,
   "metadata": {},
   "outputs": [],
   "source": []
  },
  {
   "cell_type": "code",
   "execution_count": null,
   "metadata": {},
   "outputs": [],
   "source": []
  },
  {
   "cell_type": "code",
   "execution_count": null,
   "metadata": {},
   "outputs": [],
   "source": []
  },
  {
   "cell_type": "code",
   "execution_count": null,
   "metadata": {},
   "outputs": [],
   "source": []
  },
  {
   "cell_type": "code",
   "execution_count": null,
   "metadata": {},
   "outputs": [],
   "source": []
  },
  {
   "cell_type": "code",
   "execution_count": null,
   "metadata": {},
   "outputs": [],
   "source": []
  },
  {
   "cell_type": "code",
   "execution_count": null,
   "metadata": {},
   "outputs": [],
   "source": []
  },
  {
   "cell_type": "code",
   "execution_count": null,
   "metadata": {},
   "outputs": [],
   "source": []
  },
  {
   "cell_type": "code",
   "execution_count": null,
   "metadata": {},
   "outputs": [],
   "source": [
    "query_file = '../Data/Structures/Templates/1efc.clean.pdb'\n",
    "reference_file = '../Data/Structures/Templates/6gfu.clean.pdb'\n",
    "with open('./temp.out', 'w') as outfile:\n",
    "    subprocess.call('~/workspace/SPalignNS/SPalignNS {} {}'.format(query_file, reference_file), stdout=outfile, shell=True)\n",
    "    with open('./temp.out', 'r') as infile:\n",
    "        lines = infile.readlines()\n",
    "    for line in lines:\n",
    "        if 'RMSD/Nali' in line:\n",
    "            print(line)\n",
    "        if 'SP-score' in line:\n",
    "            print(line)"
   ]
  },
  {
   "cell_type": "code",
   "execution_count": null,
   "metadata": {},
   "outputs": [],
   "source": []
  }
 ],
 "metadata": {
  "kernelspec": {
   "display_name": "Python 3",
   "language": "python",
   "name": "python3"
  },
  "language_info": {
   "codemirror_mode": {
    "name": "ipython",
    "version": 3
   },
   "file_extension": ".py",
   "mimetype": "text/x-python",
   "name": "python",
   "nbconvert_exporter": "python",
   "pygments_lexer": "ipython3",
   "version": "3.7.7"
  },
  "toc": {
   "colors": {
    "hover_highlight": "#DAA520",
    "navigate_num": "#000000",
    "navigate_text": "#333333",
    "running_highlight": "#FF0000",
    "selected_highlight": "#FFD700",
    "sidebar_border": "#EEEEEE",
    "wrapper_background": "#FFFFFF"
   },
   "moveMenuLeft": true,
   "nav_menu": {
    "height": "246px",
    "width": "252px"
   },
   "navigate_menu": true,
   "number_sections": true,
   "sideBar": true,
   "threshold": 4,
   "toc_cell": false,
   "toc_section_display": "block",
   "toc_window_display": false,
   "widenNotebook": false
  }
 },
 "nbformat": 4,
 "nbformat_minor": 4
}
